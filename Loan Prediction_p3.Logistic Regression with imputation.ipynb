{
 "cells": [
  {
   "cell_type": "markdown",
   "metadata": {},
   "source": [
    "Loan Prediction practice\n",
    "\n",
    "Date: March 03, 2017\n",
    "\n",
    "Project Description:\n",
    "Company wants to automate the loan eligibility process (real time) based on customer detail provided\n",
    "while filling online application form. These details are Gender, Marital Status, Education, Number of Dependents,\n",
    "Income, Loan Amount, Credit History and others. To automate this process, they have given a problem to identify the \n",
    "customers segments, those are eligible for loan amount so that they can specifically target these customers.Here they have provided a partial data set.\n",
    "\n",
    "Part 3: Using Logistic regression with imputation.\n"
   ]
  },
  {
   "cell_type": "code",
   "execution_count": 1,
   "metadata": {
    "collapsed": true
   },
   "outputs": [],
   "source": [
    "import pandas as pd\n",
    "import numpy as np\n",
    "import pylab as pl\n",
    "import matplotlib as plt\n",
    "import matplotlib.pyplot as plt\n",
    "%matplotlib inline\n",
    "\n",
    "from sklearn.linear_model import LogisticRegression\n",
    "from sklearn.ensemble import RandomForestClassifier\n",
    "from sklearn.cross_validation import train_test_split\n",
    "from IPython.display import display\n",
    "\n",
    "from sklearn.metrics import confusion_matrix, f1_score, make_scorer, roc_curve, roc_auc_score,auc"
   ]
  },
  {
   "cell_type": "code",
   "execution_count": 2,
   "metadata": {
    "collapsed": false
   },
   "outputs": [
    {
     "data": {
      "text/html": [
       "<div>\n",
       "<table border=\"1\" class=\"dataframe\">\n",
       "  <thead>\n",
       "    <tr style=\"text-align: right;\">\n",
       "      <th></th>\n",
       "      <th>Loan_ID</th>\n",
       "      <th>Gender</th>\n",
       "      <th>Married</th>\n",
       "      <th>Dependents</th>\n",
       "      <th>Education</th>\n",
       "      <th>Self_Employed</th>\n",
       "      <th>ApplicantIncome</th>\n",
       "      <th>CoapplicantIncome</th>\n",
       "      <th>LoanAmount</th>\n",
       "      <th>Loan_Amount_Term</th>\n",
       "      <th>Credit_History</th>\n",
       "      <th>Property_Area</th>\n",
       "      <th>Loan_Status</th>\n",
       "    </tr>\n",
       "  </thead>\n",
       "  <tbody>\n",
       "    <tr>\n",
       "      <th>0</th>\n",
       "      <td>LP001002</td>\n",
       "      <td>Male</td>\n",
       "      <td>No</td>\n",
       "      <td>0</td>\n",
       "      <td>Graduate</td>\n",
       "      <td>No</td>\n",
       "      <td>5849</td>\n",
       "      <td>0.0</td>\n",
       "      <td>NaN</td>\n",
       "      <td>360.0</td>\n",
       "      <td>1.0</td>\n",
       "      <td>Urban</td>\n",
       "      <td>Y</td>\n",
       "    </tr>\n",
       "  </tbody>\n",
       "</table>\n",
       "</div>"
      ],
      "text/plain": [
       "    Loan_ID Gender Married Dependents Education Self_Employed  \\\n",
       "0  LP001002   Male      No          0  Graduate            No   \n",
       "\n",
       "   ApplicantIncome  CoapplicantIncome  LoanAmount  Loan_Amount_Term  \\\n",
       "0             5849                0.0         NaN             360.0   \n",
       "\n",
       "   Credit_History Property_Area Loan_Status  \n",
       "0             1.0         Urban           Y  "
      ]
     },
     "metadata": {},
     "output_type": "display_data"
    },
    {
     "name": "stdout",
     "output_type": "stream",
     "text": [
      "Training dataset has 614 samples with 13 features.\n"
     ]
    }
   ],
   "source": [
    "data=pd.read_csv('train_data.csv')\n",
    "display(data.head(1))\n",
    "print \"Training dataset has {} samples with {} features.\".format(*data.shape)\n",
    "\n",
    "train_features=data.drop(['Loan_Status'],1)\n",
    "train_labels=data['Loan_Status']"
   ]
  },
  {
   "cell_type": "markdown",
   "metadata": {},
   "source": [
    "Data Processing:"
   ]
  },
  {
   "cell_type": "code",
   "execution_count": 3,
   "metadata": {
    "collapsed": true
   },
   "outputs": [],
   "source": [
    "#Create dummy variables for categorical variables\n",
    "dummies = pd.get_dummies(train_features['Property_Area'], prefix='Property_Area')\n",
    "train_features_recode=train_features.join(dummies).drop(['Property_Area','Property_Area_Rural'],1)"
   ]
  },
  {
   "cell_type": "code",
   "execution_count": 4,
   "metadata": {
    "collapsed": false
   },
   "outputs": [
    {
     "data": {
      "text/plain": [
       "Loan_ID               0\n",
       "Gender               13\n",
       "Married               3\n",
       "Dependents           15\n",
       "Education             0\n",
       "Self_Employed        32\n",
       "ApplicantIncome       0\n",
       "CoapplicantIncome     0\n",
       "LoanAmount           22\n",
       "Loan_Amount_Term     14\n",
       "Credit_History       50\n",
       "Property_Area         0\n",
       "Loan_Status           0\n",
       "dtype: int64"
      ]
     },
     "execution_count": 4,
     "metadata": {},
     "output_type": "execute_result"
    }
   ],
   "source": [
    "#Check missing values for all variables\n",
    "def num_missing(x):\n",
    "    return sum(x.isnull())\n",
    "\n",
    "data.apply(num_missing,axis=0)"
   ]
  },
  {
   "cell_type": "code",
   "execution_count": 5,
   "metadata": {
    "collapsed": false
   },
   "outputs": [
    {
     "name": "stderr",
     "output_type": "stream",
     "text": [
      "/Users/xiaohui/anaconda/lib/python2.7/site-packages/scipy/stats/stats.py:257: RuntimeWarning: The input array could not be properly checked for nan values. nan values will be ignored.\n",
      "  \"values. nan values will be ignored.\", RuntimeWarning)\n",
      "/Users/xiaohui/anaconda/lib/python2.7/site-packages/numpy/lib/arraysetops.py:200: FutureWarning: numpy not_equal will not check object identity in the future. The comparison did not return the same result as suggested by the identity (`is`)) and will change.\n",
      "  flag = np.concatenate(([True], aux[1:] != aux[:-1]))\n"
     ]
    }
   ],
   "source": [
    "#Fill in missing data\n",
    "#1. Using mode to fill Gender, Loan_Amount_term, self-employed, married\n",
    "from scipy.stats import mode\n",
    "train_features_recode['Gender'].fillna(mode(data['Gender']).mode[0],inplace=True)\n",
    "train_features_recode['Self_Employed'].fillna(mode(data['Self_Employed']).mode[0],inplace=True)\n",
    "train_features_recode['Married'].fillna(mode(data['Married']).mode[0],inplace=True)\n",
    "train_features_recode['Loan_Amount_Term'].fillna(mode(data['Loan_Amount_Term']).mode[0],inplace=True)\n",
    "\n",
    "#2. Dependents: using mean group by 'Married'\n",
    "#print pd.crosstab(data['Married'],data['Dependents'],margins=True)\n",
    "#print data.groupby('Married')['Dependents'].mean()\n",
    "\n",
    "#3. Using mean to fill in Loan amount \n",
    "train_features_recode['LoanAmount'].fillna(data['LoanAmount'].mean(),inplace=True)\n",
    "\n",
    "#4. Credit history if missing set to 0(no history. Being conservetive.)\n",
    "train_features_recode['Credit_History'].fillna(0,inplace=True)"
   ]
  },
  {
   "cell_type": "code",
   "execution_count": 6,
   "metadata": {
    "collapsed": false
   },
   "outputs": [
    {
     "data": {
      "text/html": [
       "<div>\n",
       "<table border=\"1\" class=\"dataframe\">\n",
       "  <thead>\n",
       "    <tr style=\"text-align: right;\">\n",
       "      <th></th>\n",
       "      <th>Loan_ID</th>\n",
       "      <th>Gender</th>\n",
       "      <th>Married</th>\n",
       "      <th>Dependents</th>\n",
       "      <th>Education</th>\n",
       "      <th>Self_Employed</th>\n",
       "      <th>ApplicantIncome</th>\n",
       "      <th>CoapplicantIncome</th>\n",
       "      <th>LoanAmount</th>\n",
       "      <th>Loan_Amount_Term</th>\n",
       "      <th>Credit_History</th>\n",
       "      <th>Property_Area_Semiurban</th>\n",
       "      <th>Property_Area_Urban</th>\n",
       "      <th>Gender_coded</th>\n",
       "      <th>Married_coded</th>\n",
       "      <th>Education_coded</th>\n",
       "      <th>Self_Employed_coded</th>\n",
       "      <th>Dependents_coded</th>\n",
       "    </tr>\n",
       "  </thead>\n",
       "  <tbody>\n",
       "    <tr>\n",
       "      <th>0</th>\n",
       "      <td>LP001002</td>\n",
       "      <td>Male</td>\n",
       "      <td>No</td>\n",
       "      <td>0</td>\n",
       "      <td>Graduate</td>\n",
       "      <td>No</td>\n",
       "      <td>5849</td>\n",
       "      <td>0.0</td>\n",
       "      <td>146.412162</td>\n",
       "      <td>360.0</td>\n",
       "      <td>1.0</td>\n",
       "      <td>0.0</td>\n",
       "      <td>1.0</td>\n",
       "      <td>0</td>\n",
       "      <td>1</td>\n",
       "      <td>1</td>\n",
       "      <td>1</td>\n",
       "      <td>0.0</td>\n",
       "    </tr>\n",
       "    <tr>\n",
       "      <th>1</th>\n",
       "      <td>LP001003</td>\n",
       "      <td>Male</td>\n",
       "      <td>Yes</td>\n",
       "      <td>1</td>\n",
       "      <td>Graduate</td>\n",
       "      <td>No</td>\n",
       "      <td>4583</td>\n",
       "      <td>1508.0</td>\n",
       "      <td>128.000000</td>\n",
       "      <td>360.0</td>\n",
       "      <td>1.0</td>\n",
       "      <td>0.0</td>\n",
       "      <td>0.0</td>\n",
       "      <td>0</td>\n",
       "      <td>0</td>\n",
       "      <td>1</td>\n",
       "      <td>1</td>\n",
       "      <td>1.0</td>\n",
       "    </tr>\n",
       "    <tr>\n",
       "      <th>2</th>\n",
       "      <td>LP001005</td>\n",
       "      <td>Male</td>\n",
       "      <td>Yes</td>\n",
       "      <td>0</td>\n",
       "      <td>Graduate</td>\n",
       "      <td>Yes</td>\n",
       "      <td>3000</td>\n",
       "      <td>0.0</td>\n",
       "      <td>66.000000</td>\n",
       "      <td>360.0</td>\n",
       "      <td>1.0</td>\n",
       "      <td>0.0</td>\n",
       "      <td>1.0</td>\n",
       "      <td>0</td>\n",
       "      <td>0</td>\n",
       "      <td>1</td>\n",
       "      <td>0</td>\n",
       "      <td>0.0</td>\n",
       "    </tr>\n",
       "    <tr>\n",
       "      <th>3</th>\n",
       "      <td>LP001006</td>\n",
       "      <td>Male</td>\n",
       "      <td>Yes</td>\n",
       "      <td>0</td>\n",
       "      <td>Not Graduate</td>\n",
       "      <td>No</td>\n",
       "      <td>2583</td>\n",
       "      <td>2358.0</td>\n",
       "      <td>120.000000</td>\n",
       "      <td>360.0</td>\n",
       "      <td>1.0</td>\n",
       "      <td>0.0</td>\n",
       "      <td>1.0</td>\n",
       "      <td>0</td>\n",
       "      <td>0</td>\n",
       "      <td>0</td>\n",
       "      <td>1</td>\n",
       "      <td>0.0</td>\n",
       "    </tr>\n",
       "    <tr>\n",
       "      <th>4</th>\n",
       "      <td>LP001008</td>\n",
       "      <td>Male</td>\n",
       "      <td>No</td>\n",
       "      <td>0</td>\n",
       "      <td>Graduate</td>\n",
       "      <td>No</td>\n",
       "      <td>6000</td>\n",
       "      <td>0.0</td>\n",
       "      <td>141.000000</td>\n",
       "      <td>360.0</td>\n",
       "      <td>1.0</td>\n",
       "      <td>0.0</td>\n",
       "      <td>1.0</td>\n",
       "      <td>0</td>\n",
       "      <td>1</td>\n",
       "      <td>1</td>\n",
       "      <td>1</td>\n",
       "      <td>0.0</td>\n",
       "    </tr>\n",
       "  </tbody>\n",
       "</table>\n",
       "</div>"
      ],
      "text/plain": [
       "    Loan_ID Gender Married Dependents     Education Self_Employed  \\\n",
       "0  LP001002   Male      No          0      Graduate            No   \n",
       "1  LP001003   Male     Yes          1      Graduate            No   \n",
       "2  LP001005   Male     Yes          0      Graduate           Yes   \n",
       "3  LP001006   Male     Yes          0  Not Graduate            No   \n",
       "4  LP001008   Male      No          0      Graduate            No   \n",
       "\n",
       "   ApplicantIncome  CoapplicantIncome  LoanAmount  Loan_Amount_Term  \\\n",
       "0             5849                0.0  146.412162             360.0   \n",
       "1             4583             1508.0  128.000000             360.0   \n",
       "2             3000                0.0   66.000000             360.0   \n",
       "3             2583             2358.0  120.000000             360.0   \n",
       "4             6000                0.0  141.000000             360.0   \n",
       "\n",
       "   Credit_History  Property_Area_Semiurban  Property_Area_Urban  Gender_coded  \\\n",
       "0             1.0                      0.0                  1.0             0   \n",
       "1             1.0                      0.0                  0.0             0   \n",
       "2             1.0                      0.0                  1.0             0   \n",
       "3             1.0                      0.0                  1.0             0   \n",
       "4             1.0                      0.0                  1.0             0   \n",
       "\n",
       "   Married_coded  Education_coded  Self_Employed_coded  Dependents_coded  \n",
       "0              1                1                    1               0.0  \n",
       "1              0                1                    1               1.0  \n",
       "2              0                1                    0               0.0  \n",
       "3              0                0                    1               0.0  \n",
       "4              1                1                    1               0.0  "
      ]
     },
     "execution_count": 6,
     "metadata": {},
     "output_type": "execute_result"
    }
   ],
   "source": [
    "#Coding LoanStatus as Y=1, N=0:\n",
    "#Create a generic function to recode variables using replace function:\n",
    "def coding(col, coldict):\n",
    "    colnew=pd.Series(col, copy=True)\n",
    "    for key, value in coldict.items():\n",
    "        colnew.replace(key, value, inplace=True) #what does inplace do?\n",
    "    return colnew\n",
    "\n",
    "train_features_recode['Gender_coded']=coding(train_features_recode['Gender'],{'Male':0,'Female':1})\n",
    "train_features_recode['Married_coded']=coding(train_features_recode['Married'],{'Yes':0,'No':1})\n",
    "train_features_recode['Education_coded']=coding(train_features_recode['Education'],{'Not Graduate':0,'Graduate':1})\n",
    "train_features_recode['Self_Employed_coded']=coding(train_features_recode['Self_Employed'],{'Yes':0,'No':1})\n",
    "train_features_recode['Dependents_coded']=coding(train_features_recode['Dependents'],{'0':0,'1':1,'2':2,'3+':3})\n",
    "train_features_recode.head()\n"
   ]
  },
  {
   "cell_type": "code",
   "execution_count": 7,
   "metadata": {
    "collapsed": false
   },
   "outputs": [
    {
     "name": "stdout",
     "output_type": "stream",
     "text": [
      "Dependents    0    1    2  3+  All\n",
      "Married                           \n",
      "No          171   23    8   7  213\n",
      "Yes         174   79   93  44  398\n",
      "All         345  102  101  51  614\n",
      "Married\n",
      "No     0.287081\n",
      "Yes    1.017949\n",
      "Name: Dependents_coded, dtype: float64\n",
      "Missing count and frequency counts before imputation\n",
      "0.0    345\n",
      "1.0    102\n",
      "2.0    101\n",
      "3.0     51\n",
      "Name: Dependents_coded, dtype: int64\n",
      "15\n",
      "Yes    11\n",
      "No      4\n",
      "Name: Married, dtype: int64\n",
      "0.000000    345\n",
      "1.000000    102\n",
      "2.000000    101\n",
      "3.000000     51\n",
      "1.017949     11\n",
      "0.287081      4\n",
      "Name: Dependents_coded, dtype: int64\n",
      "0\n"
     ]
    }
   ],
   "source": [
    "#2. Fill in blank for Dependents: using group mean of dependents by 'Married'\n",
    "\n",
    "#check group mean by 'Married'\n",
    "print pd.crosstab(data['Married'],data['Dependents'],margins=True)\n",
    "print train_features_recode.groupby('Married')['Dependents_coded'].mean()\n",
    " \n",
    "print \"Missing count and frequency counts before imputation\"\n",
    "print pd.value_counts(train_features_recode['Dependents_coded'])\n",
    "print sum(train_features_recode['Dependents_coded'].isnull())\n",
    "print pd.value_counts(train_features_recode.loc[(train_features_recode['Dependents_coded'].isnull() ), 'Married'])\n",
    "                          \n",
    "#Fill in blank for 'Dependents_coded'                      \n",
    "train_features_recode.loc[(train_features_recode['Dependents_coded'].isnull() ) & (train_features_recode['Married']=='Yes'), 'Dependents_coded']=train_features_recode.groupby('Married')['Dependents_coded'].mean()[1]\n",
    "train_features_recode.loc[(train_features_recode['Dependents_coded'].isnull() ) & (train_features_recode['Married']=='No'), 'Dependents_coded']=train_features_recode.groupby('Married')['Dependents_coded'].mean()[0]\n",
    "\n",
    "\n",
    "print pd.value_counts(train_features_recode['Dependents_coded'])\n",
    "print sum(train_features_recode['Dependents_coded'].isnull())"
   ]
  },
  {
   "cell_type": "code",
   "execution_count": 8,
   "metadata": {
    "collapsed": false
   },
   "outputs": [
    {
     "name": "stdout",
     "output_type": "stream",
     "text": [
      "Loan_ID                     0\n",
      "Gender                      0\n",
      "Married                     0\n",
      "Dependents                 15\n",
      "Education                   0\n",
      "Self_Employed               0\n",
      "ApplicantIncome             0\n",
      "CoapplicantIncome           0\n",
      "LoanAmount                  0\n",
      "Loan_Amount_Term            0\n",
      "Credit_History              0\n",
      "Property_Area_Semiurban     0\n",
      "Property_Area_Urban         0\n",
      "Gender_coded                0\n",
      "Married_coded               0\n",
      "Education_coded             0\n",
      "Self_Employed_coded         0\n",
      "Dependents_coded            0\n",
      "dtype: int64\n"
     ]
    }
   ],
   "source": [
    "#final check for missing value\n",
    "print train_features_recode.apply(num_missing,axis=0)"
   ]
  },
  {
   "cell_type": "code",
   "execution_count": 9,
   "metadata": {
    "collapsed": true
   },
   "outputs": [],
   "source": [
    "#Build logistic regression model to predict loan_status\n",
    "logreg_train_feature=train_features_recode.drop(['Loan_ID','Gender','Married','Education','Self_Employed','Dependents'],1)\n",
    "logreg_train_label=train_labels"
   ]
  },
  {
   "cell_type": "code",
   "execution_count": 10,
   "metadata": {
    "collapsed": false
   },
   "outputs": [
    {
     "name": "stdout",
     "output_type": "stream",
     "text": [
      "0.771986970684\n"
     ]
    },
    {
     "data": {
      "text/html": [
       "<div>\n",
       "<table border=\"1\" class=\"dataframe\">\n",
       "  <thead>\n",
       "    <tr style=\"text-align: right;\">\n",
       "      <th></th>\n",
       "      <th>coefficient</th>\n",
       "    </tr>\n",
       "  </thead>\n",
       "  <tbody>\n",
       "    <tr>\n",
       "      <th>Credit_History</th>\n",
       "      <td>2.020007</td>\n",
       "    </tr>\n",
       "    <tr>\n",
       "      <th>Property_Area_Semiurban</th>\n",
       "      <td>0.662704</td>\n",
       "    </tr>\n",
       "    <tr>\n",
       "      <th>Education_coded</th>\n",
       "      <td>0.331657</td>\n",
       "    </tr>\n",
       "    <tr>\n",
       "      <th>Property_Area_Urban</th>\n",
       "      <td>0.128958</td>\n",
       "    </tr>\n",
       "    <tr>\n",
       "      <th>Gender_coded</th>\n",
       "      <td>0.035389</td>\n",
       "    </tr>\n",
       "    <tr>\n",
       "      <th>ApplicantIncome</th>\n",
       "      <td>-0.000002</td>\n",
       "    </tr>\n",
       "    <tr>\n",
       "      <th>CoapplicantIncome</th>\n",
       "      <td>-0.000038</td>\n",
       "    </tr>\n",
       "    <tr>\n",
       "      <th>LoanAmount</th>\n",
       "      <td>-0.001200</td>\n",
       "    </tr>\n",
       "    <tr>\n",
       "      <th>Loan_Amount_Term</th>\n",
       "      <td>-0.001790</td>\n",
       "    </tr>\n",
       "    <tr>\n",
       "      <th>Dependents_coded</th>\n",
       "      <td>-0.041484</td>\n",
       "    </tr>\n",
       "    <tr>\n",
       "      <th>Self_Employed_coded</th>\n",
       "      <td>-0.057468</td>\n",
       "    </tr>\n",
       "    <tr>\n",
       "      <th>Married_coded</th>\n",
       "      <td>-0.602886</td>\n",
       "    </tr>\n",
       "  </tbody>\n",
       "</table>\n",
       "</div>"
      ],
      "text/plain": [
       "                         coefficient\n",
       "Credit_History              2.020007\n",
       "Property_Area_Semiurban     0.662704\n",
       "Education_coded             0.331657\n",
       "Property_Area_Urban         0.128958\n",
       "Gender_coded                0.035389\n",
       "ApplicantIncome            -0.000002\n",
       "CoapplicantIncome          -0.000038\n",
       "LoanAmount                 -0.001200\n",
       "Loan_Amount_Term           -0.001790\n",
       "Dependents_coded           -0.041484\n",
       "Self_Employed_coded        -0.057468\n",
       "Married_coded              -0.602886"
      ]
     },
     "execution_count": 10,
     "metadata": {},
     "output_type": "execute_result"
    }
   ],
   "source": [
    "loan_model=LogisticRegression()\n",
    "loan_model.fit(logreg_train_feature,logreg_train_label)\n",
    "print loan_model.score(logreg_train_feature,logreg_train_label)\n",
    "coefficient=pd.DataFrame(loan_model.coef_.transpose(),columns=['coefficient'],index=logreg_train_feature.columns).sort_values(['coefficient'],ascending=False)\n",
    "coefficient"
   ]
  },
  {
   "cell_type": "code",
   "execution_count": 11,
   "metadata": {
    "collapsed": false
   },
   "outputs": [
    {
     "name": "stdout",
     "output_type": "stream",
     "text": [
      "[[381  41]\n",
      " [ 99  93]]\n",
      "Logistic regression model has an ROC-AUC score of 0.7655.\n"
     ]
    }
   ],
   "source": [
    "y=coding(logreg_train_label,{'Y':1,'N':0})\n",
    "print confusion_matrix(logreg_train_label, loan_model.predict(logreg_train_feature),labels=['Y','N'])\n",
    "print \"Logistic regression model has an ROC-AUC score of {:.4f}.\".format(roc_auc_score(y, loan_model.predict_proba(logreg_train_feature)[:,1]))"
   ]
  },
  {
   "cell_type": "code",
   "execution_count": 12,
   "metadata": {
    "collapsed": false
   },
   "outputs": [
    {
     "data": {
      "text/plain": [
       "<matplotlib.text.Text at 0x113ac4410>"
      ]
     },
     "execution_count": 12,
     "metadata": {},
     "output_type": "execute_result"
    },
    {
     "data": {
      "image/png": "[encoded data removed]",
      "text/plain": [
       "<matplotlib.figure.Figure at 0x113166150>"
      ]
     },
     "metadata": {},
     "output_type": "display_data"
    }
   ],
   "source": [
    "preds = loan_model.predict_proba(logreg_train_feature)[:,1]\n",
    "fpr, tpr, thres = roc_curve(y, preds)\n",
    "roc_auc = auc(fpr, tpr)\n",
    "\n",
    "plt.plot(fpr, tpr, color='r', label='ROC curve (area = %0.4f)' % roc_auc)\n",
    "plt.plot([0, 1], [0, 1], color='b', linestyle='--')\n",
    "plt.legend(loc=\"lower right\")\n",
    "plt.xlabel('False Positive Rate')\n",
    "plt.ylabel('True Positive Rate')"
   ]
  },
  {
   "cell_type": "code",
   "execution_count": 13,
   "metadata": {
    "collapsed": false
   },
   "outputs": [
    {
     "name": "stdout",
     "output_type": "stream",
     "text": [
      "(367, 19)\n"
     ]
    },
    {
     "data": {
      "text/html": [
       "<div>\n",
       "<table border=\"1\" class=\"dataframe\">\n",
       "  <thead>\n",
       "    <tr style=\"text-align: right;\">\n",
       "      <th></th>\n",
       "      <th>Loan_ID</th>\n",
       "      <th>Gender</th>\n",
       "      <th>Married</th>\n",
       "      <th>Dependents</th>\n",
       "      <th>Education</th>\n",
       "      <th>Self_Employed</th>\n",
       "      <th>ApplicantIncome</th>\n",
       "      <th>CoapplicantIncome</th>\n",
       "      <th>LoanAmount</th>\n",
       "      <th>Loan_Amount_Term</th>\n",
       "      <th>Credit_History</th>\n",
       "      <th>Property_Area_Semiurban</th>\n",
       "      <th>Property_Area_Urban</th>\n",
       "      <th>Gender_coded</th>\n",
       "      <th>Married_coded</th>\n",
       "      <th>Education_coded</th>\n",
       "      <th>Self_Employed_coded</th>\n",
       "      <th>Dependents_coded</th>\n",
       "      <th>Loan_Status</th>\n",
       "    </tr>\n",
       "  </thead>\n",
       "  <tbody>\n",
       "    <tr>\n",
       "      <th>0</th>\n",
       "      <td>LP001015</td>\n",
       "      <td>Male</td>\n",
       "      <td>Yes</td>\n",
       "      <td>0</td>\n",
       "      <td>Graduate</td>\n",
       "      <td>No</td>\n",
       "      <td>5720</td>\n",
       "      <td>0</td>\n",
       "      <td>110.0</td>\n",
       "      <td>360.0</td>\n",
       "      <td>1.0</td>\n",
       "      <td>0.0</td>\n",
       "      <td>1.0</td>\n",
       "      <td>0</td>\n",
       "      <td>0</td>\n",
       "      <td>1</td>\n",
       "      <td>1</td>\n",
       "      <td>0.0</td>\n",
       "      <td>Y</td>\n",
       "    </tr>\n",
       "    <tr>\n",
       "      <th>1</th>\n",
       "      <td>LP001022</td>\n",
       "      <td>Male</td>\n",
       "      <td>Yes</td>\n",
       "      <td>1</td>\n",
       "      <td>Graduate</td>\n",
       "      <td>No</td>\n",
       "      <td>3076</td>\n",
       "      <td>1500</td>\n",
       "      <td>126.0</td>\n",
       "      <td>360.0</td>\n",
       "      <td>1.0</td>\n",
       "      <td>0.0</td>\n",
       "      <td>1.0</td>\n",
       "      <td>0</td>\n",
       "      <td>0</td>\n",
       "      <td>1</td>\n",
       "      <td>1</td>\n",
       "      <td>1.0</td>\n",
       "      <td>Y</td>\n",
       "    </tr>\n",
       "    <tr>\n",
       "      <th>2</th>\n",
       "      <td>LP001031</td>\n",
       "      <td>Male</td>\n",
       "      <td>Yes</td>\n",
       "      <td>2</td>\n",
       "      <td>Graduate</td>\n",
       "      <td>No</td>\n",
       "      <td>5000</td>\n",
       "      <td>1800</td>\n",
       "      <td>208.0</td>\n",
       "      <td>360.0</td>\n",
       "      <td>1.0</td>\n",
       "      <td>0.0</td>\n",
       "      <td>1.0</td>\n",
       "      <td>0</td>\n",
       "      <td>0</td>\n",
       "      <td>1</td>\n",
       "      <td>1</td>\n",
       "      <td>2.0</td>\n",
       "      <td>Y</td>\n",
       "    </tr>\n",
       "    <tr>\n",
       "      <th>3</th>\n",
       "      <td>LP001035</td>\n",
       "      <td>Male</td>\n",
       "      <td>Yes</td>\n",
       "      <td>2</td>\n",
       "      <td>Graduate</td>\n",
       "      <td>No</td>\n",
       "      <td>2340</td>\n",
       "      <td>2546</td>\n",
       "      <td>100.0</td>\n",
       "      <td>360.0</td>\n",
       "      <td>0.0</td>\n",
       "      <td>0.0</td>\n",
       "      <td>1.0</td>\n",
       "      <td>0</td>\n",
       "      <td>0</td>\n",
       "      <td>1</td>\n",
       "      <td>1</td>\n",
       "      <td>2.0</td>\n",
       "      <td>N</td>\n",
       "    </tr>\n",
       "    <tr>\n",
       "      <th>4</th>\n",
       "      <td>LP001051</td>\n",
       "      <td>Male</td>\n",
       "      <td>No</td>\n",
       "      <td>0</td>\n",
       "      <td>Not Graduate</td>\n",
       "      <td>No</td>\n",
       "      <td>3276</td>\n",
       "      <td>0</td>\n",
       "      <td>78.0</td>\n",
       "      <td>360.0</td>\n",
       "      <td>1.0</td>\n",
       "      <td>0.0</td>\n",
       "      <td>1.0</td>\n",
       "      <td>0</td>\n",
       "      <td>1</td>\n",
       "      <td>0</td>\n",
       "      <td>1</td>\n",
       "      <td>0.0</td>\n",
       "      <td>Y</td>\n",
       "    </tr>\n",
       "  </tbody>\n",
       "</table>\n",
       "</div>"
      ],
      "text/plain": [
       "    Loan_ID Gender Married Dependents     Education Self_Employed  \\\n",
       "0  LP001015   Male     Yes          0      Graduate            No   \n",
       "1  LP001022   Male     Yes          1      Graduate            No   \n",
       "2  LP001031   Male     Yes          2      Graduate            No   \n",
       "3  LP001035   Male     Yes          2      Graduate            No   \n",
       "4  LP001051   Male      No          0  Not Graduate            No   \n",
       "\n",
       "   ApplicantIncome  CoapplicantIncome  LoanAmount  Loan_Amount_Term  \\\n",
       "0             5720                  0       110.0             360.0   \n",
       "1             3076               1500       126.0             360.0   \n",
       "2             5000               1800       208.0             360.0   \n",
       "3             2340               2546       100.0             360.0   \n",
       "4             3276                  0        78.0             360.0   \n",
       "\n",
       "   Credit_History  Property_Area_Semiurban  Property_Area_Urban  Gender_coded  \\\n",
       "0             1.0                      0.0                  1.0             0   \n",
       "1             1.0                      0.0                  1.0             0   \n",
       "2             1.0                      0.0                  1.0             0   \n",
       "3             0.0                      0.0                  1.0             0   \n",
       "4             1.0                      0.0                  1.0             0   \n",
       "\n",
       "   Married_coded  Education_coded  Self_Employed_coded  Dependents_coded  \\\n",
       "0              0                1                    1               0.0   \n",
       "1              0                1                    1               1.0   \n",
       "2              0                1                    1               2.0   \n",
       "3              0                1                    1               2.0   \n",
       "4              1                0                    1               0.0   \n",
       "\n",
       "  Loan_Status  \n",
       "0           Y  \n",
       "1           Y  \n",
       "2           Y  \n",
       "3           N  \n",
       "4           Y  "
      ]
     },
     "metadata": {},
     "output_type": "display_data"
    },
    {
     "name": "stdout",
     "output_type": "stream",
     "text": [
      "None\n",
      "(367, 2)\n",
      "Loan_ID        0\n",
      "Loan_Status    0\n",
      "dtype: int64\n"
     ]
    },
    {
     "data": {
      "text/html": [
       "<div>\n",
       "<table border=\"1\" class=\"dataframe\">\n",
       "  <thead>\n",
       "    <tr style=\"text-align: right;\">\n",
       "      <th></th>\n",
       "      <th>Loan_ID</th>\n",
       "      <th>Loan_Status</th>\n",
       "    </tr>\n",
       "  </thead>\n",
       "  <tbody>\n",
       "    <tr>\n",
       "      <th>0</th>\n",
       "      <td>LP001015</td>\n",
       "      <td>Y</td>\n",
       "    </tr>\n",
       "    <tr>\n",
       "      <th>1</th>\n",
       "      <td>LP001022</td>\n",
       "      <td>Y</td>\n",
       "    </tr>\n",
       "    <tr>\n",
       "      <th>2</th>\n",
       "      <td>LP001031</td>\n",
       "      <td>Y</td>\n",
       "    </tr>\n",
       "    <tr>\n",
       "      <th>3</th>\n",
       "      <td>LP001035</td>\n",
       "      <td>N</td>\n",
       "    </tr>\n",
       "    <tr>\n",
       "      <th>4</th>\n",
       "      <td>LP001051</td>\n",
       "      <td>Y</td>\n",
       "    </tr>\n",
       "  </tbody>\n",
       "</table>\n",
       "</div>"
      ],
      "text/plain": [
       "    Loan_ID Loan_Status\n",
       "0  LP001015           Y\n",
       "1  LP001022           Y\n",
       "2  LP001031           Y\n",
       "3  LP001035           N\n",
       "4  LP001051           Y"
      ]
     },
     "metadata": {},
     "output_type": "display_data"
    },
    {
     "name": "stdout",
     "output_type": "stream",
     "text": [
      "None\n"
     ]
    }
   ],
   "source": [
    "#prepare output for test data\n",
    "#Processing test datasets\n",
    "#1.create dummy variables\n",
    "test=pd.read_csv('test_data.csv')\n",
    "dummies = pd.get_dummies(test['Property_Area'], prefix='Property_Area')\n",
    "test_recode=test.join(dummies).drop(['Property_Area','Property_Area_Rural'],1)\n",
    "\n",
    "\n",
    "#2a.Impute missing values\n",
    "# (1). Using mode to fill Gender, Loan_Amount_term, self-employed, married\n",
    "from scipy.stats import mode\n",
    "test_recode['Gender'].fillna(mode(data['Gender']).mode[0],inplace=True)\n",
    "test_recode['Self_Employed'].fillna(mode(data['Self_Employed']).mode[0],inplace=True)\n",
    "test_recode['Married'].fillna(mode(data['Married']).mode[0],inplace=True)\n",
    "test_recode['Loan_Amount_Term'].fillna(mode(data['Loan_Amount_Term']).mode[0],inplace=True)\n",
    "\n",
    "\n",
    "#(2). Dependents: using mean group by 'Married'\n",
    "#print pd.crosstab(data['Married'],data['Dependents'],margins=True)\n",
    "#print data.groupby('Married')['Dependents'].mean()\n",
    "\n",
    "#(3). Using mean to fill in Loan amount \n",
    "test_recode['LoanAmount'].fillna(data['LoanAmount'].mean(),inplace=True)\n",
    "\n",
    "#(4). Credit history if missing set to 0(no history. Being conservetive.)\n",
    "test_recode['Credit_History'].fillna(0,inplace=True)\n",
    "\n",
    "\n",
    "#3. recode categorical variables\n",
    "\n",
    "test_recode['Gender_coded']=coding(test_recode['Gender'],{'Male':0,'Female':1})\n",
    "test_recode['Married_coded']=coding(test_recode['Married'],{'Yes':0,'No':1})\n",
    "test_recode['Education_coded']=coding(test_recode['Education'],{'Not Graduate':0,'Graduate':1})\n",
    "test_recode['Self_Employed_coded']=coding(test_recode['Self_Employed'],{'Yes':0,'No':1})\n",
    "test_recode['Dependents_coded']=coding(test_recode['Dependents'],{'0':0,'1':1,'2':2,'3+':3})\n",
    "test_recode.head()\n",
    "\n",
    "#2b. Impute \"dependents.\n",
    "#Fill in blank for 'Dependents_coded'                      \n",
    "test_recode.loc[(test_recode['Dependents_coded'].isnull() ) & (test_recode['Married']=='Yes'), 'Dependents_coded']=train_features_recode.groupby('Married')['Dependents_coded'].mean()[1]\n",
    "test_recode.loc[(test_recode['Dependents_coded'].isnull() ) & (test_recode['Married']=='No'), 'Dependents_coded']=train_features_recode.groupby('Married')['Dependents_coded'].mean()[0]\n",
    "\n",
    "#\n",
    "\n",
    "#4. Making prediction using fitted logistic regression model\n",
    "logreg_test_feature=test_recode.drop(['Loan_ID','Gender','Married','Education','Self_Employed','Dependents'],1)\n",
    "py=loan_model.predict(logreg_test_feature)\n",
    "test_recode['Loan_Status']=py\n",
    "print test_recode.shape\n",
    "print display(test_recode.head())\n",
    "\n",
    "submission=test_recode.loc[:,['Loan_ID','Loan_Status']]\n",
    "print submission.shape\n",
    "print submission.apply(num_missing,axis=0)\n",
    "print display(submission.head(5))\n",
    "submission.to_csv('test_result_log_imp_0302',header=True,index = False)\n"
   ]
  },
  {
   "cell_type": "markdown",
   "metadata": {},
   "source": [
    "Testing final score using logistic regression with imputation (mode/median/mean method) is 0.76388 (0.756 without imputation). \n",
    "\n",
    "Next step: try random forest model to seek better fitting."
   ]
  },
  {
   "cell_type": "code",
   "execution_count": null,
   "metadata": {
    "collapsed": true
   },
   "outputs": [],
   "source": []
  }
 ],
 "metadata": {
  "kernelspec": {
   "display_name": "Python [Root]",
   "language": "python",
   "name": "Python [Root]"
  },
  "language_info": {
   "codemirror_mode": {
    "name": "ipython",
    "version": 2
   },
   "file_extension": ".py",
   "mimetype": "text/x-python",
   "name": "python",
   "nbconvert_exporter": "python",
   "pygments_lexer": "ipython2",
   "version": "2.7.12"
  }
 },
 "nbformat": 4,
 "nbformat_minor": 0
}
