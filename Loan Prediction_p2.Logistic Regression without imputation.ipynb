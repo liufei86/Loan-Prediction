{
 "cells": [
  {
   "cell_type": "markdown",
   "metadata": {},
   "source": [
    "Loan Prediction practice\n",
    "\n",
    "Date: March 03, 2017\n",
    "\n",
    "Project Description:\n",
    "Company wants to automate the loan eligibility process (real time) based on customer detail provided\n",
    "while filling online application form. These details are Gender, Marital Status, Education, Number of Dependents,\n",
    "Income, Loan Amount, Credit History and others. To automate this process, they have given a problem to identify the \n",
    "customers segments, those are eligible for loan amount so that they can specifically target these customers.Here they have provided a partial data set.\n",
    "\n",
    "Part 2: Using Logistic regression to make loan prediction without imputation\n"
   ]
  },
  {
   "cell_type": "code",
   "execution_count": 1,
   "metadata": {
    "collapsed": true
   },
   "outputs": [],
   "source": [
    "import pandas as pd\n",
    "import numpy as np\n",
    "import pylab as pl\n",
    "import matplotlib.pyplot as plt\n",
    "%matplotlib inline\n",
    "\n",
    "from sklearn.linear_model import LogisticRegression\n",
    "from sklearn.ensemble import RandomForestClassifier\n",
    "from sklearn.cross_validation import train_test_split\n",
    "from IPython.display import display\n",
    "\n",
    "from sklearn.metrics import confusion_matrix, f1_score, make_scorer, roc_curve, roc_auc_score,auc"
   ]
  },
  {
   "cell_type": "code",
   "execution_count": 2,
   "metadata": {
    "collapsed": false
   },
   "outputs": [
    {
     "data": {
      "text/html": [
       "<div>\n",
       "<table border=\"1\" class=\"dataframe\">\n",
       "  <thead>\n",
       "    <tr style=\"text-align: right;\">\n",
       "      <th></th>\n",
       "      <th>Loan_ID</th>\n",
       "      <th>Gender</th>\n",
       "      <th>Married</th>\n",
       "      <th>Dependents</th>\n",
       "      <th>Education</th>\n",
       "      <th>Self_Employed</th>\n",
       "      <th>ApplicantIncome</th>\n",
       "      <th>CoapplicantIncome</th>\n",
       "      <th>LoanAmount</th>\n",
       "      <th>Loan_Amount_Term</th>\n",
       "      <th>Credit_History</th>\n",
       "      <th>Property_Area</th>\n",
       "      <th>Loan_Status</th>\n",
       "    </tr>\n",
       "  </thead>\n",
       "  <tbody>\n",
       "    <tr>\n",
       "      <th>0</th>\n",
       "      <td>LP001002</td>\n",
       "      <td>Male</td>\n",
       "      <td>No</td>\n",
       "      <td>0</td>\n",
       "      <td>Graduate</td>\n",
       "      <td>No</td>\n",
       "      <td>5849</td>\n",
       "      <td>0.0</td>\n",
       "      <td>NaN</td>\n",
       "      <td>360.0</td>\n",
       "      <td>1.0</td>\n",
       "      <td>Urban</td>\n",
       "      <td>Y</td>\n",
       "    </tr>\n",
       "  </tbody>\n",
       "</table>\n",
       "</div>"
      ],
      "text/plain": [
       "    Loan_ID Gender Married Dependents Education Self_Employed  \\\n",
       "0  LP001002   Male      No          0  Graduate            No   \n",
       "\n",
       "   ApplicantIncome  CoapplicantIncome  LoanAmount  Loan_Amount_Term  \\\n",
       "0             5849                0.0         NaN             360.0   \n",
       "\n",
       "   Credit_History Property_Area Loan_Status  \n",
       "0             1.0         Urban           Y  "
      ]
     },
     "metadata": {},
     "output_type": "display_data"
    },
    {
     "name": "stdout",
     "output_type": "stream",
     "text": [
      "Training dataset has 614 samples with 13 features.\n"
     ]
    }
   ],
   "source": [
    "data=pd.read_csv('train_data.csv')\n",
    "display(data.head(1))\n",
    "print \"Training dataset has {} samples with {} features.\".format(*data.shape)\n",
    "\n",
    "train_features=data.drop(['Loan_Status'],1)\n",
    "train_labels=data['Loan_Status']"
   ]
  },
  {
   "cell_type": "markdown",
   "metadata": {},
   "source": [
    "Data Processing:"
   ]
  },
  {
   "cell_type": "code",
   "execution_count": 3,
   "metadata": {
    "collapsed": true
   },
   "outputs": [],
   "source": [
    "#Create dummy variables for categorical variables\n",
    "dummies = pd.get_dummies(train_features['Property_Area'], prefix='Property_Area')\n",
    "train_features_recode=train_features.join(dummies).drop(['Property_Area','Property_Area_Rural'],1)"
   ]
  },
  {
   "cell_type": "code",
   "execution_count": 4,
   "metadata": {
    "collapsed": false
   },
   "outputs": [
    {
     "data": {
      "text/plain": [
       "Loan_ID               0\n",
       "Gender               13\n",
       "Married               3\n",
       "Dependents           15\n",
       "Education             0\n",
       "Self_Employed        32\n",
       "ApplicantIncome       0\n",
       "CoapplicantIncome     0\n",
       "LoanAmount           22\n",
       "Loan_Amount_Term     14\n",
       "Credit_History       50\n",
       "Property_Area         0\n",
       "Loan_Status           0\n",
       "dtype: int64"
      ]
     },
     "execution_count": 4,
     "metadata": {},
     "output_type": "execute_result"
    }
   ],
   "source": [
    "#Check missing values for all variables\n",
    "def num_missing(x):\n",
    "    return sum(x.isnull())\n",
    "\n",
    "data.apply(num_missing,axis=0)"
   ]
  },
  {
   "cell_type": "code",
   "execution_count": 5,
   "metadata": {
    "collapsed": false
   },
   "outputs": [
    {
     "data": {
      "text/html": [
       "<div>\n",
       "<table border=\"1\" class=\"dataframe\">\n",
       "  <thead>\n",
       "    <tr style=\"text-align: right;\">\n",
       "      <th></th>\n",
       "      <th>Loan_ID</th>\n",
       "      <th>Gender</th>\n",
       "      <th>Married</th>\n",
       "      <th>Dependents</th>\n",
       "      <th>Education</th>\n",
       "      <th>Self_Employed</th>\n",
       "      <th>ApplicantIncome</th>\n",
       "      <th>CoapplicantIncome</th>\n",
       "      <th>LoanAmount</th>\n",
       "      <th>Loan_Amount_Term</th>\n",
       "      <th>Credit_History</th>\n",
       "      <th>Property_Area_Semiurban</th>\n",
       "      <th>Property_Area_Urban</th>\n",
       "      <th>Gender_coded</th>\n",
       "      <th>Married_coded</th>\n",
       "      <th>Education_coded</th>\n",
       "      <th>Self_Employed_coded</th>\n",
       "      <th>Dependents_coded</th>\n",
       "    </tr>\n",
       "  </thead>\n",
       "  <tbody>\n",
       "    <tr>\n",
       "      <th>0</th>\n",
       "      <td>LP001002</td>\n",
       "      <td>Male</td>\n",
       "      <td>No</td>\n",
       "      <td>0</td>\n",
       "      <td>Graduate</td>\n",
       "      <td>No</td>\n",
       "      <td>5849</td>\n",
       "      <td>0.0</td>\n",
       "      <td>NaN</td>\n",
       "      <td>360.0</td>\n",
       "      <td>1.0</td>\n",
       "      <td>0.0</td>\n",
       "      <td>1.0</td>\n",
       "      <td>0.0</td>\n",
       "      <td>1.0</td>\n",
       "      <td>1</td>\n",
       "      <td>1.0</td>\n",
       "      <td>0.0</td>\n",
       "    </tr>\n",
       "    <tr>\n",
       "      <th>1</th>\n",
       "      <td>LP001003</td>\n",
       "      <td>Male</td>\n",
       "      <td>Yes</td>\n",
       "      <td>1</td>\n",
       "      <td>Graduate</td>\n",
       "      <td>No</td>\n",
       "      <td>4583</td>\n",
       "      <td>1508.0</td>\n",
       "      <td>128.0</td>\n",
       "      <td>360.0</td>\n",
       "      <td>1.0</td>\n",
       "      <td>0.0</td>\n",
       "      <td>0.0</td>\n",
       "      <td>0.0</td>\n",
       "      <td>0.0</td>\n",
       "      <td>1</td>\n",
       "      <td>1.0</td>\n",
       "      <td>1.0</td>\n",
       "    </tr>\n",
       "    <tr>\n",
       "      <th>2</th>\n",
       "      <td>LP001005</td>\n",
       "      <td>Male</td>\n",
       "      <td>Yes</td>\n",
       "      <td>0</td>\n",
       "      <td>Graduate</td>\n",
       "      <td>Yes</td>\n",
       "      <td>3000</td>\n",
       "      <td>0.0</td>\n",
       "      <td>66.0</td>\n",
       "      <td>360.0</td>\n",
       "      <td>1.0</td>\n",
       "      <td>0.0</td>\n",
       "      <td>1.0</td>\n",
       "      <td>0.0</td>\n",
       "      <td>0.0</td>\n",
       "      <td>1</td>\n",
       "      <td>0.0</td>\n",
       "      <td>0.0</td>\n",
       "    </tr>\n",
       "    <tr>\n",
       "      <th>3</th>\n",
       "      <td>LP001006</td>\n",
       "      <td>Male</td>\n",
       "      <td>Yes</td>\n",
       "      <td>0</td>\n",
       "      <td>Not Graduate</td>\n",
       "      <td>No</td>\n",
       "      <td>2583</td>\n",
       "      <td>2358.0</td>\n",
       "      <td>120.0</td>\n",
       "      <td>360.0</td>\n",
       "      <td>1.0</td>\n",
       "      <td>0.0</td>\n",
       "      <td>1.0</td>\n",
       "      <td>0.0</td>\n",
       "      <td>0.0</td>\n",
       "      <td>0</td>\n",
       "      <td>1.0</td>\n",
       "      <td>0.0</td>\n",
       "    </tr>\n",
       "    <tr>\n",
       "      <th>4</th>\n",
       "      <td>LP001008</td>\n",
       "      <td>Male</td>\n",
       "      <td>No</td>\n",
       "      <td>0</td>\n",
       "      <td>Graduate</td>\n",
       "      <td>No</td>\n",
       "      <td>6000</td>\n",
       "      <td>0.0</td>\n",
       "      <td>141.0</td>\n",
       "      <td>360.0</td>\n",
       "      <td>1.0</td>\n",
       "      <td>0.0</td>\n",
       "      <td>1.0</td>\n",
       "      <td>0.0</td>\n",
       "      <td>1.0</td>\n",
       "      <td>1</td>\n",
       "      <td>1.0</td>\n",
       "      <td>0.0</td>\n",
       "    </tr>\n",
       "  </tbody>\n",
       "</table>\n",
       "</div>"
      ],
      "text/plain": [
       "    Loan_ID Gender Married Dependents     Education Self_Employed  \\\n",
       "0  LP001002   Male      No          0      Graduate            No   \n",
       "1  LP001003   Male     Yes          1      Graduate            No   \n",
       "2  LP001005   Male     Yes          0      Graduate           Yes   \n",
       "3  LP001006   Male     Yes          0  Not Graduate            No   \n",
       "4  LP001008   Male      No          0      Graduate            No   \n",
       "\n",
       "   ApplicantIncome  CoapplicantIncome  LoanAmount  Loan_Amount_Term  \\\n",
       "0             5849                0.0         NaN             360.0   \n",
       "1             4583             1508.0       128.0             360.0   \n",
       "2             3000                0.0        66.0             360.0   \n",
       "3             2583             2358.0       120.0             360.0   \n",
       "4             6000                0.0       141.0             360.0   \n",
       "\n",
       "   Credit_History  Property_Area_Semiurban  Property_Area_Urban  Gender_coded  \\\n",
       "0             1.0                      0.0                  1.0           0.0   \n",
       "1             1.0                      0.0                  0.0           0.0   \n",
       "2             1.0                      0.0                  1.0           0.0   \n",
       "3             1.0                      0.0                  1.0           0.0   \n",
       "4             1.0                      0.0                  1.0           0.0   \n",
       "\n",
       "   Married_coded  Education_coded  Self_Employed_coded  Dependents_coded  \n",
       "0            1.0                1                  1.0               0.0  \n",
       "1            0.0                1                  1.0               1.0  \n",
       "2            0.0                1                  0.0               0.0  \n",
       "3            0.0                0                  1.0               0.0  \n",
       "4            1.0                1                  1.0               0.0  "
      ]
     },
     "execution_count": 5,
     "metadata": {},
     "output_type": "execute_result"
    }
   ],
   "source": [
    "#Coding LoanStatus as Y=1, N=0:\n",
    "#Create a generic function to recode variables using replace function:\n",
    "def coding(col, coldict):\n",
    "    colnew=pd.Series(col, copy=True)\n",
    "    for key, value in coldict.items():\n",
    "        colnew.replace(key, value, inplace=True) \n",
    "    return colnew\n",
    "\n",
    "train_features_recode['Gender_coded']=coding(train_features_recode['Gender'],{'Male':0,'Female':1})\n",
    "train_features_recode['Married_coded']=coding(train_features_recode['Married'],{'Yes':0,'No':1})\n",
    "train_features_recode['Education_coded']=coding(train_features_recode['Education'],{'Not Graduate':0,'Graduate':1})\n",
    "train_features_recode['Self_Employed_coded']=coding(train_features_recode['Self_Employed'],{'Yes':0,'No':1})\n",
    "train_features_recode['Dependents_coded']=coding(train_features_recode['Dependents'],{'0':0,'1':1,'2':2,'3+':3})\n",
    "train_features_recode.head()"
   ]
  },
  {
   "cell_type": "code",
   "execution_count": 6,
   "metadata": {
    "collapsed": false
   },
   "outputs": [
    {
     "name": "stdout",
     "output_type": "stream",
     "text": [
      "(480, 18)\n",
      "(480,)\n"
     ]
    }
   ],
   "source": [
    "train_features_recode2= train_features_recode[(train_features_recode.apply(num_missing,axis=1)==0)]\n",
    "print train_features_recode2.shape\n",
    "\n",
    "train_labels_recode= train_labels[(train_features_recode.apply(num_missing,axis=1)==0)]\n",
    "print train_labels_recode.shape"
   ]
  },
  {
   "cell_type": "code",
   "execution_count": 7,
   "metadata": {
    "collapsed": true
   },
   "outputs": [],
   "source": [
    "#Build logistic regression model to predict loan_status\n",
    "logreg_train_feature=train_features_recode2.drop(['Loan_ID','Gender','Married','Education','Self_Employed','Dependents'],1)\n",
    "logreg_train_label=train_labels_recode"
   ]
  },
  {
   "cell_type": "code",
   "execution_count": 9,
   "metadata": {
    "collapsed": false
   },
   "outputs": [
    {
     "name": "stdout",
     "output_type": "stream",
     "text": [
      "0.8125\n"
     ]
    },
    {
     "data": {
      "text/html": [
       "<div>\n",
       "<table border=\"1\" class=\"dataframe\">\n",
       "  <thead>\n",
       "    <tr style=\"text-align: right;\">\n",
       "      <th></th>\n",
       "      <th>coefficient</th>\n",
       "    </tr>\n",
       "  </thead>\n",
       "  <tbody>\n",
       "    <tr>\n",
       "      <th>Credit_History</th>\n",
       "      <td>2.392457</td>\n",
       "    </tr>\n",
       "    <tr>\n",
       "      <th>Property_Area_Semiurban</th>\n",
       "      <td>0.722588</td>\n",
       "    </tr>\n",
       "    <tr>\n",
       "      <th>Education_coded</th>\n",
       "      <td>0.387002</td>\n",
       "    </tr>\n",
       "    <tr>\n",
       "      <th>Self_Employed_coded</th>\n",
       "      <td>0.122612</td>\n",
       "    </tr>\n",
       "    <tr>\n",
       "      <th>Dependents_coded</th>\n",
       "      <td>0.090144</td>\n",
       "    </tr>\n",
       "    <tr>\n",
       "      <th>ApplicantIncome</th>\n",
       "      <td>-0.000001</td>\n",
       "    </tr>\n",
       "    <tr>\n",
       "      <th>CoapplicantIncome</th>\n",
       "      <td>-0.000049</td>\n",
       "    </tr>\n",
       "    <tr>\n",
       "      <th>LoanAmount</th>\n",
       "      <td>-0.003206</td>\n",
       "    </tr>\n",
       "    <tr>\n",
       "      <th>Loan_Amount_Term</th>\n",
       "      <td>-0.003240</td>\n",
       "    </tr>\n",
       "    <tr>\n",
       "      <th>Property_Area_Urban</th>\n",
       "      <td>-0.090728</td>\n",
       "    </tr>\n",
       "    <tr>\n",
       "      <th>Gender_coded</th>\n",
       "      <td>-0.297341</td>\n",
       "    </tr>\n",
       "    <tr>\n",
       "      <th>Married_coded</th>\n",
       "      <td>-0.528612</td>\n",
       "    </tr>\n",
       "  </tbody>\n",
       "</table>\n",
       "</div>"
      ],
      "text/plain": [
       "                         coefficient\n",
       "Credit_History              2.392457\n",
       "Property_Area_Semiurban     0.722588\n",
       "Education_coded             0.387002\n",
       "Self_Employed_coded         0.122612\n",
       "Dependents_coded            0.090144\n",
       "ApplicantIncome            -0.000001\n",
       "CoapplicantIncome          -0.000049\n",
       "LoanAmount                 -0.003206\n",
       "Loan_Amount_Term           -0.003240\n",
       "Property_Area_Urban        -0.090728\n",
       "Gender_coded               -0.297341\n",
       "Married_coded              -0.528612"
      ]
     },
     "execution_count": 9,
     "metadata": {},
     "output_type": "execute_result"
    }
   ],
   "source": [
    "loan_model=LogisticRegression()\n",
    "loan_model.fit(logreg_train_feature,logreg_train_label)\n",
    "print loan_model.score(logreg_train_feature,logreg_train_label)\n",
    "coefficient=pd.DataFrame(loan_model.coef_.transpose(),columns=['coefficient'],index=logreg_train_feature.columns).sort_values(['coefficient'],ascending=False)\n",
    "coefficient"
   ]
  },
  {
   "cell_type": "code",
   "execution_count": 10,
   "metadata": {
    "collapsed": false
   },
   "outputs": [
    {
     "name": "stdout",
     "output_type": "stream",
     "text": [
      "[[323   9]\n",
      " [ 81  67]]\n",
      "Logistic regression model has an ROC-AUC score of 0.7911.\n"
     ]
    }
   ],
   "source": [
    "y=coding(logreg_train_label,{'Y':1,'N':0})\n",
    "print confusion_matrix(logreg_train_label, loan_model.predict(logreg_train_feature),labels=['Y','N'])\n",
    "print \"Logistic regression model has an ROC-AUC score of {:.4f}.\".format(roc_auc_score(y, loan_model.predict_proba(logreg_train_feature)[:,1]))"
   ]
  },
  {
   "cell_type": "markdown",
   "metadata": {},
   "source": [
    "Note: Model has high precision, but also high false positive rate which means model approves loans for \n",
    "people who shouldn't get approved. Further cost analysis based on the business context is needed to adjust the \n",
    "threshold.\n"
   ]
  },
  {
   "cell_type": "code",
   "execution_count": 11,
   "metadata": {
    "collapsed": false
   },
   "outputs": [
    {
     "data": {
      "text/plain": [
       "<matplotlib.text.Text at 0x113a3a0d0>"
      ]
     },
     "execution_count": 11,
     "metadata": {},
     "output_type": "execute_result"
    },
    {
     "data": {
      "image/png": "[encoded data removed]",
      "text/plain": [
       "<matplotlib.figure.Figure at 0x119300f50>"
      ]
     },
     "metadata": {},
     "output_type": "display_data"
    }
   ],
   "source": [
    "preds = loan_model.predict_proba(logreg_train_feature)[:,1]\n",
    "fpr, tpr, thres = roc_curve(y, preds)\n",
    "roc_auc = auc(fpr, tpr)\n",
    "\n",
    "plt.plot(fpr, tpr, color='r', label='ROC curve (area = %0.4f)' % roc_auc)\n",
    "plt.plot([0, 1], [0, 1], color='b', linestyle='--')\n",
    "plt.legend(loc=\"lower right\")\n",
    "plt.xlabel('False Positive Rate')\n",
    "plt.ylabel('True Positive Rate')"
   ]
  },
  {
   "cell_type": "code",
   "execution_count": 12,
   "metadata": {
    "collapsed": false
   },
   "outputs": [
    {
     "name": "stdout",
     "output_type": "stream",
     "text": [
      "(78, 13)\n",
      "(289, 13)\n",
      "Loan_ID               0\n",
      "Gender               11\n",
      "Married               0\n",
      "Dependents           10\n",
      "Education             0\n",
      "Self_Employed        23\n",
      "ApplicantIncome       0\n",
      "CoapplicantIncome     0\n",
      "LoanAmount            5\n",
      "Loan_Amount_Term      6\n",
      "Credit_History       29\n",
      "Property_Area         0\n",
      "Loan_Status           0\n",
      "dtype: int64\n"
     ]
    },
    {
     "name": "stderr",
     "output_type": "stream",
     "text": [
      "/Users/xiaohui/anaconda/lib/python2.7/site-packages/ipykernel/__main__.py:22: SettingWithCopyWarning: \n",
      "A value is trying to be set on a copy of a slice from a DataFrame.\n",
      "Try using .loc[row_indexer,col_indexer] = value instead\n",
      "\n",
      "See the caveats in the documentation: http://pandas.pydata.org/pandas-docs/stable/indexing.html#indexing-view-versus-copy\n",
      "/Users/xiaohui/anaconda/lib/python2.7/site-packages/ipykernel/__main__.py:35: SettingWithCopyWarning: \n",
      "A value is trying to be set on a copy of a slice from a DataFrame.\n",
      "Try using .loc[row_indexer,col_indexer] = value instead\n",
      "\n",
      "See the caveats in the documentation: http://pandas.pydata.org/pandas-docs/stable/indexing.html#indexing-view-versus-copy\n"
     ]
    },
    {
     "data": {
      "text/html": [
       "<div>\n",
       "<table border=\"1\" class=\"dataframe\">\n",
       "  <thead>\n",
       "    <tr style=\"text-align: right;\">\n",
       "      <th></th>\n",
       "      <th>Loan_ID</th>\n",
       "      <th>Gender</th>\n",
       "      <th>Married</th>\n",
       "      <th>Dependents</th>\n",
       "      <th>Education</th>\n",
       "      <th>Self_Employed</th>\n",
       "      <th>ApplicantIncome</th>\n",
       "      <th>CoapplicantIncome</th>\n",
       "      <th>LoanAmount</th>\n",
       "      <th>Loan_Amount_Term</th>\n",
       "      <th>Credit_History</th>\n",
       "      <th>Property_Area</th>\n",
       "      <th>Loan_Status</th>\n",
       "    </tr>\n",
       "  </thead>\n",
       "  <tbody>\n",
       "    <tr>\n",
       "      <th>3</th>\n",
       "      <td>LP001035</td>\n",
       "      <td>Male</td>\n",
       "      <td>Yes</td>\n",
       "      <td>2</td>\n",
       "      <td>Graduate</td>\n",
       "      <td>No</td>\n",
       "      <td>2340</td>\n",
       "      <td>2546</td>\n",
       "      <td>100.0</td>\n",
       "      <td>360.0</td>\n",
       "      <td>NaN</td>\n",
       "      <td>Urban</td>\n",
       "      <td>N</td>\n",
       "    </tr>\n",
       "    <tr>\n",
       "      <th>8</th>\n",
       "      <td>LP001059</td>\n",
       "      <td>Male</td>\n",
       "      <td>Yes</td>\n",
       "      <td>2</td>\n",
       "      <td>Graduate</td>\n",
       "      <td>NaN</td>\n",
       "      <td>13633</td>\n",
       "      <td>0</td>\n",
       "      <td>280.0</td>\n",
       "      <td>240.0</td>\n",
       "      <td>1.0</td>\n",
       "      <td>Urban</td>\n",
       "      <td>Y</td>\n",
       "    </tr>\n",
       "    <tr>\n",
       "      <th>11</th>\n",
       "      <td>LP001082</td>\n",
       "      <td>Male</td>\n",
       "      <td>Yes</td>\n",
       "      <td>1</td>\n",
       "      <td>Graduate</td>\n",
       "      <td>NaN</td>\n",
       "      <td>2185</td>\n",
       "      <td>1516</td>\n",
       "      <td>162.0</td>\n",
       "      <td>360.0</td>\n",
       "      <td>1.0</td>\n",
       "      <td>Semiurban</td>\n",
       "      <td>Y</td>\n",
       "    </tr>\n",
       "    <tr>\n",
       "      <th>12</th>\n",
       "      <td>LP001083</td>\n",
       "      <td>Male</td>\n",
       "      <td>No</td>\n",
       "      <td>3+</td>\n",
       "      <td>Graduate</td>\n",
       "      <td>No</td>\n",
       "      <td>4166</td>\n",
       "      <td>0</td>\n",
       "      <td>40.0</td>\n",
       "      <td>180.0</td>\n",
       "      <td>NaN</td>\n",
       "      <td>Urban</td>\n",
       "      <td>N</td>\n",
       "    </tr>\n",
       "    <tr>\n",
       "      <th>13</th>\n",
       "      <td>LP001094</td>\n",
       "      <td>Male</td>\n",
       "      <td>Yes</td>\n",
       "      <td>2</td>\n",
       "      <td>Graduate</td>\n",
       "      <td>NaN</td>\n",
       "      <td>12173</td>\n",
       "      <td>0</td>\n",
       "      <td>166.0</td>\n",
       "      <td>360.0</td>\n",
       "      <td>0.0</td>\n",
       "      <td>Semiurban</td>\n",
       "      <td>N</td>\n",
       "    </tr>\n",
       "  </tbody>\n",
       "</table>\n",
       "</div>"
      ],
      "text/plain": [
       "     Loan_ID Gender Married Dependents Education Self_Employed  \\\n",
       "3   LP001035   Male     Yes          2  Graduate            No   \n",
       "8   LP001059   Male     Yes          2  Graduate           NaN   \n",
       "11  LP001082   Male     Yes          1  Graduate           NaN   \n",
       "12  LP001083   Male      No         3+  Graduate            No   \n",
       "13  LP001094   Male     Yes          2  Graduate           NaN   \n",
       "\n",
       "    ApplicantIncome  CoapplicantIncome  LoanAmount  Loan_Amount_Term  \\\n",
       "3              2340               2546       100.0             360.0   \n",
       "8             13633                  0       280.0             240.0   \n",
       "11             2185               1516       162.0             360.0   \n",
       "12             4166                  0        40.0             180.0   \n",
       "13            12173                  0       166.0             360.0   \n",
       "\n",
       "    Credit_History Property_Area Loan_Status  \n",
       "3              NaN         Urban           N  \n",
       "8              1.0         Urban           Y  \n",
       "11             1.0     Semiurban           Y  \n",
       "12             NaN         Urban           N  \n",
       "13             0.0     Semiurban           N  "
      ]
     },
     "metadata": {},
     "output_type": "display_data"
    },
    {
     "name": "stdout",
     "output_type": "stream",
     "text": [
      "None\n",
      "(367, 2)\n"
     ]
    },
    {
     "data": {
      "text/html": [
       "<div>\n",
       "<table border=\"1\" class=\"dataframe\">\n",
       "  <thead>\n",
       "    <tr style=\"text-align: right;\">\n",
       "      <th></th>\n",
       "      <th>Loan_ID</th>\n",
       "      <th>Loan_Status</th>\n",
       "    </tr>\n",
       "  </thead>\n",
       "  <tbody>\n",
       "    <tr>\n",
       "      <th>0</th>\n",
       "      <td>LP001015</td>\n",
       "      <td>Y</td>\n",
       "    </tr>\n",
       "    <tr>\n",
       "      <th>1</th>\n",
       "      <td>LP001022</td>\n",
       "      <td>Y</td>\n",
       "    </tr>\n",
       "    <tr>\n",
       "      <th>2</th>\n",
       "      <td>LP001031</td>\n",
       "      <td>Y</td>\n",
       "    </tr>\n",
       "    <tr>\n",
       "      <th>3</th>\n",
       "      <td>LP001035</td>\n",
       "      <td>N</td>\n",
       "    </tr>\n",
       "    <tr>\n",
       "      <th>4</th>\n",
       "      <td>LP001051</td>\n",
       "      <td>Y</td>\n",
       "    </tr>\n",
       "  </tbody>\n",
       "</table>\n",
       "</div>"
      ],
      "text/plain": [
       "    Loan_ID Loan_Status\n",
       "0  LP001015           Y\n",
       "1  LP001022           Y\n",
       "2  LP001031           Y\n",
       "3  LP001035           N\n",
       "4  LP001051           Y"
      ]
     },
     "metadata": {},
     "output_type": "display_data"
    },
    {
     "name": "stdout",
     "output_type": "stream",
     "text": [
      "None\n",
      "Loan_ID        0\n",
      "Loan_Status    0\n",
      "dtype: int64\n"
     ]
    }
   ],
   "source": [
    "#prepare output for test data\n",
    "#Processing test datasets\n",
    "  #1.create dummy variables\n",
    "test=pd.read_csv('test_data.csv')\n",
    "dummies = pd.get_dummies(test['Property_Area'], prefix='Property_Area')\n",
    "test_recode=test.join(dummies).drop(['Property_Area','Property_Area_Rural'],1)\n",
    "\n",
    "  #2. recode categorical variables\n",
    "test_recode['Gender_coded']=coding(test_recode['Gender'],{'Male':0,'Female':1})\n",
    "test_recode['Married_coded']=coding(test_recode['Married'],{'Yes':0,'No':1})\n",
    "test_recode['Education_coded']=coding(test_recode['Education'],{'Not Graduate':0,'Graduate':1})\n",
    "test_recode['Self_Employed_coded']=coding(test_recode['Self_Employed'],{'Yes':0,'No':1})\n",
    "test_recode['Dependents_coded']=coding(test_recode['Dependents'],{'0':0,'1':1,'2':2,'3+':3})\n",
    "test_recode.head()\n",
    "\n",
    "  #3.Delete missing values.\n",
    "test_recode2= test_recode[(test_recode.apply(num_missing,axis=1)==0)]\n",
    "\n",
    "  #4. Making prediction using fitted logistic regression model\n",
    "logreg_test_feature=test_recode2.drop(['Loan_ID','Gender','Married','Education','Self_Employed','Dependents'],1)\n",
    "py=loan_model.predict(logreg_test_feature)\n",
    "test_recode2['Loan_Status']=py\n",
    "\n",
    "  #merge back to original test data set\n",
    "final_test_all=test.merge(test_recode2.loc[:,['Loan_ID','Loan_Status']],how='outer',on='Loan_ID')\n",
    "\n",
    "#print final_test_all.shape\n",
    "x=final_test_all[final_test_all['Loan_Status'].isnull()]\n",
    "print x.shape\n",
    "y=final_test_all[final_test_all['Loan_Status'].isnull()==False]\n",
    "print y.shape\n",
    "\n",
    "#Since credit history is an importance indicator; Thus, assign loan_status=y if credit history=1 otherwise \"N\"\n",
    "#This is very arbitrary.\n",
    "x['Loan_Status']=np.where(x['Credit_History']>0,'Y','N')\n",
    "print x.apply(num_missing,axis=0)\n",
    "print display(x.head())\n",
    "\n",
    "#concatenate x and y\n",
    "a1=x.loc[:,['Loan_ID','Loan_Status']]\n",
    "a2=y.loc[:,['Loan_ID','Loan_Status']]\n",
    "submission=pd.concat([a1,a2]).sort_values(['Loan_ID'])\n",
    "\n",
    "print submission.shape\n",
    "print display(submission.head(5))\n",
    "print submission.apply(num_missing,axis=0)\n",
    "submission.to_csv('test_result_0302',header=True,index = False)\n"
   ]
  },
  {
   "cell_type": "markdown",
   "metadata": {},
   "source": [
    "Testing final score using logistic regression is 0.756(accuracy on train data set is 0.8125)\n",
    "\n",
    "Next step: (1) perform imputation to see if accuracy can be improved.\n",
    "           (2) try random forest model."
   ]
  },
  {
   "cell_type": "code",
   "execution_count": null,
   "metadata": {
    "collapsed": true
   },
   "outputs": [],
   "source": []
  }
 ],
 "metadata": {
  "kernelspec": {
   "display_name": "Python [Root]",
   "language": "python",
   "name": "Python [Root]"
  },
  "language_info": {
   "codemirror_mode": {
    "name": "ipython",
    "version": 2
   },
   "file_extension": ".py",
   "mimetype": "text/x-python",
   "name": "python",
   "nbconvert_exporter": "python",
   "pygments_lexer": "ipython2",
   "version": "2.7.12"
  }
 },
 "nbformat": 4,
 "nbformat_minor": 0
}
