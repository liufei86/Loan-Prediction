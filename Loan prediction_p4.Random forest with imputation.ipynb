{
 "cells": [
  {
   "cell_type": "markdown",
   "metadata": {
    "collapsed": true
   },
   "source": [
    "Loan Prediction practice\n",
    "\n",
    "Date: March 03, 2017\n",
    "\n",
    "Project Description:\n",
    "Company wants to automate the loan eligibility process (real time) based on customer detail provided\n",
    "while filling online application form. These details are Gender, Marital Status, Education, Number of Dependents,\n",
    "Income, Loan Amount, Credit History and others. To automate this process, they have given a problem to identify the \n",
    "customers segments, those are eligible for loan amount so that they can specifically target these customers.Here they have provided a partial data set.\n",
    "\n",
    "Part 4: Using Random Forest\n"
   ]
  },
  {
   "cell_type": "code",
   "execution_count": 2,
   "metadata": {
    "collapsed": true
   },
   "outputs": [],
   "source": [
    "import pandas as pd\n",
    "import numpy as np\n",
    "import pylab as pl\n",
    "import matplotlib.pyplot as plt\n",
    "%matplotlib inline\n",
    "\n",
    "from sklearn.linear_model import LogisticRegression\n",
    "from sklearn.ensemble import RandomForestClassifier\n",
    "from sklearn.cross_validation import train_test_split\n",
    "from IPython.display import display\n",
    "\n",
    "from sklearn.metrics import confusion_matrix, f1_score, make_scorer, roc_curve, roc_auc_score,auc"
   ]
  },
  {
   "cell_type": "code",
   "execution_count": 3,
   "metadata": {
    "collapsed": false
   },
   "outputs": [
    {
     "data": {
      "text/html": [
       "<div>\n",
       "<table border=\"1\" class=\"dataframe\">\n",
       "  <thead>\n",
       "    <tr style=\"text-align: right;\">\n",
       "      <th></th>\n",
       "      <th>Loan_ID</th>\n",
       "      <th>Gender</th>\n",
       "      <th>Married</th>\n",
       "      <th>Dependents</th>\n",
       "      <th>Education</th>\n",
       "      <th>Self_Employed</th>\n",
       "      <th>ApplicantIncome</th>\n",
       "      <th>CoapplicantIncome</th>\n",
       "      <th>LoanAmount</th>\n",
       "      <th>Loan_Amount_Term</th>\n",
       "      <th>Credit_History</th>\n",
       "      <th>Property_Area</th>\n",
       "      <th>Loan_Status</th>\n",
       "    </tr>\n",
       "  </thead>\n",
       "  <tbody>\n",
       "    <tr>\n",
       "      <th>0</th>\n",
       "      <td>LP001002</td>\n",
       "      <td>Male</td>\n",
       "      <td>No</td>\n",
       "      <td>0</td>\n",
       "      <td>Graduate</td>\n",
       "      <td>No</td>\n",
       "      <td>5849</td>\n",
       "      <td>0.0</td>\n",
       "      <td>NaN</td>\n",
       "      <td>360.0</td>\n",
       "      <td>1.0</td>\n",
       "      <td>Urban</td>\n",
       "      <td>Y</td>\n",
       "    </tr>\n",
       "  </tbody>\n",
       "</table>\n",
       "</div>"
      ],
      "text/plain": [
       "    Loan_ID Gender Married Dependents Education Self_Employed  \\\n",
       "0  LP001002   Male      No          0  Graduate            No   \n",
       "\n",
       "   ApplicantIncome  CoapplicantIncome  LoanAmount  Loan_Amount_Term  \\\n",
       "0             5849                0.0         NaN             360.0   \n",
       "\n",
       "   Credit_History Property_Area Loan_Status  \n",
       "0             1.0         Urban           Y  "
      ]
     },
     "metadata": {},
     "output_type": "display_data"
    },
    {
     "name": "stdout",
     "output_type": "stream",
     "text": [
      "Training dataset has 614 samples with 13 features.\n"
     ]
    }
   ],
   "source": [
    "data=pd.read_csv('train_data.csv')\n",
    "display(data.head(1))\n",
    "print \"Training dataset has {} samples with {} features.\".format(*data.shape)\n",
    "\n",
    "train_features=data.drop(['Loan_Status'],1)\n",
    "train_label=data['Loan_Status']"
   ]
  },
  {
   "cell_type": "code",
   "execution_count": 4,
   "metadata": {
    "collapsed": true
   },
   "outputs": [],
   "source": [
    "#Create a generic function to recode variables using replace function:\n",
    "def coding(col, coldict):\n",
    "    colnew=pd.Series(col, copy=True)\n",
    "    for key, value in coldict.items():\n",
    "        colnew.replace(key, value, inplace=True) #what does inplace do?\n",
    "    return colnew"
   ]
  },
  {
   "cell_type": "code",
   "execution_count": 5,
   "metadata": {
    "collapsed": false
   },
   "outputs": [
    {
     "data": {
      "text/plain": [
       "Loan_ID               0\n",
       "Gender               13\n",
       "Married               3\n",
       "Dependents           15\n",
       "Education             0\n",
       "Self_Employed        32\n",
       "ApplicantIncome       0\n",
       "CoapplicantIncome     0\n",
       "LoanAmount           22\n",
       "Loan_Amount_Term     14\n",
       "Credit_History       50\n",
       "Property_Area         0\n",
       "Loan_Status           0\n",
       "dtype: int64"
      ]
     },
     "execution_count": 5,
     "metadata": {},
     "output_type": "execute_result"
    }
   ],
   "source": [
    "#Check missing values for all variables\n",
    "def num_missing(x):\n",
    "    return sum(x.isnull())\n",
    "data.apply(num_missing,axis=0)"
   ]
  },
  {
   "cell_type": "code",
   "execution_count": 6,
   "metadata": {
    "collapsed": false
   },
   "outputs": [
    {
     "name": "stdout",
     "output_type": "stream",
     "text": [
      "Loan_ID               0\n",
      "Gender                0\n",
      "Married               0\n",
      "Dependents           15\n",
      "Education             0\n",
      "Self_Employed         0\n",
      "ApplicantIncome       0\n",
      "CoapplicantIncome     0\n",
      "LoanAmount            0\n",
      "Loan_Amount_Term      0\n",
      "Credit_History        0\n",
      "Property_Area         0\n",
      "dtype: int64\n"
     ]
    },
    {
     "name": "stderr",
     "output_type": "stream",
     "text": [
      "/Users/xiaohui/anaconda/lib/python2.7/site-packages/scipy/stats/stats.py:257: RuntimeWarning: The input array could not be properly checked for nan values. nan values will be ignored.\n",
      "  \"values. nan values will be ignored.\", RuntimeWarning)\n",
      "/Users/xiaohui/anaconda/lib/python2.7/site-packages/numpy/lib/arraysetops.py:200: FutureWarning: numpy not_equal will not check object identity in the future. The comparison did not return the same result as suggested by the identity (`is`)) and will change.\n",
      "  flag = np.concatenate(([True], aux[1:] != aux[:-1]))\n"
     ]
    }
   ],
   "source": [
    "#Fill in missing data\n",
    "#1. Using mode to fill Gender, Loan_Amount_term, self-employed, married\n",
    "from scipy.stats import mode\n",
    "train_features['Gender'].fillna(mode(data['Gender']).mode[0],inplace=True)\n",
    "train_features['Self_Employed'].fillna(mode(data['Self_Employed']).mode[0],inplace=True)\n",
    "train_features['Married'].fillna(mode(data['Married']).mode[0],inplace=True)\n",
    "train_features['Loan_Amount_Term'].fillna(mode(data['Loan_Amount_Term']).mode[0],inplace=True)\n",
    "\n",
    "\n",
    "#2. Dependents: using mean group by 'Married'\n",
    "#print pd.crosstab(data['Married'],data['Dependents'],margins=True)\n",
    "#print data.groupby('Married')['Dependents'].mean()\n",
    "\n",
    "#3. Using mean to fill in Loan amount \n",
    "train_features['LoanAmount'].fillna(data['LoanAmount'].mean(),inplace=True)\n",
    "\n",
    "#4. Credit history if missing set to 0(no history. Being conservetive.)\n",
    "train_features['Credit_History'].fillna(0,inplace=True)\n",
    "print train_features.apply(num_missing,axis=0)"
   ]
  },
  {
   "cell_type": "code",
   "execution_count": 7,
   "metadata": {
    "collapsed": false
   },
   "outputs": [],
   "source": [
    "rf_train=train_features\n",
    "#recode categorical variables\n",
    "rf_train['Property_Area_coded']=coding(rf_train['Property_Area'],{'Urban':0,'Semiurban':1,'Rural':2})\n",
    "rf_train['Gender_coded']=coding(rf_train['Gender'],{'Male':0,'Female':1})\n",
    "rf_train['Married_coded']=coding(rf_train['Married'],{'Yes':0,'No':1})\n",
    "rf_train['Education_coded']=coding(rf_train['Education'],{'Not Graduate':0,'Graduate':1})\n",
    "rf_train['Self_Employed_coded']=coding(rf_train['Self_Employed'],{'Yes':0,'No':1})\n",
    "rf_train['Dependents_coded']=coding(rf_train['Dependents'],{'0':0,'1':1,'2':2,'3+':3})\n",
    "#Delete cases with missing values\n",
    "#rf_train_features= rf_train[(rf_train.apply(num_missing,axis=1)==0)]\n",
    "#rf_train_labels=train_label[(rf_train.apply(num_missing,axis=1)==0)]\n"
   ]
  },
  {
   "cell_type": "code",
   "execution_count": 8,
   "metadata": {
    "collapsed": false
   },
   "outputs": [
    {
     "name": "stdout",
     "output_type": "stream",
     "text": [
      "Dependents    0    1    2  3+  All\n",
      "Married                           \n",
      "No          171   23    8   7  213\n",
      "Yes         174   79   93  44  398\n",
      "All         345  102  101  51  614\n",
      "Married\n",
      "No     0.287081\n",
      "Yes    1.017949\n",
      "Name: Dependents_coded, dtype: float64\n",
      "Missing count and frequency counts before imputation\n",
      "0.0    345\n",
      "1.0    102\n",
      "2.0    101\n",
      "3.0     51\n",
      "Name: Dependents_coded, dtype: int64\n",
      "15\n",
      "Yes    11\n",
      "No      4\n",
      "Name: Married, dtype: int64\n",
      "0.000000    345\n",
      "1.000000    102\n",
      "2.000000    101\n",
      "3.000000     51\n",
      "1.017949     11\n",
      "0.287081      4\n",
      "Name: Dependents_coded, dtype: int64\n",
      "0\n"
     ]
    }
   ],
   "source": [
    "#2. Fill in blank for Dependents: using group mean of dependents by 'Married'\n",
    "\n",
    "#check group mean by 'Married'\n",
    "print pd.crosstab(data['Married'],data['Dependents'],margins=True)\n",
    "print train_features.groupby('Married')['Dependents_coded'].mean()\n",
    " \n",
    "print \"Missing count and frequency counts before imputation\"\n",
    "print pd.value_counts(train_features['Dependents_coded'])\n",
    "print sum(train_features['Dependents_coded'].isnull())\n",
    "print pd.value_counts(train_features.loc[(train_features['Dependents_coded'].isnull() ), 'Married'])\n",
    "                          \n",
    "#Fill in blank for 'Dependents_coded'                      \n",
    "rf_train.loc[(rf_train['Dependents_coded'].isnull() ) & (rf_train['Married']=='Yes'), 'Dependents_coded']=rf_train.groupby('Married')['Dependents_coded'].mean()[1]\n",
    "rf_train.loc[(rf_train['Dependents_coded'].isnull() ) & (rf_train['Married']=='No'), 'Dependents_coded']=rf_train.groupby('Married')['Dependents_coded'].mean()[0]\n",
    "\n",
    "\n",
    "print pd.value_counts(rf_train['Dependents_coded'])\n",
    "print sum(rf_train['Dependents_coded'].isnull())"
   ]
  },
  {
   "cell_type": "code",
   "execution_count": 23,
   "metadata": {
    "collapsed": false
   },
   "outputs": [
    {
     "name": "stdout",
     "output_type": "stream",
     "text": [
      "1.0\n"
     ]
    }
   ],
   "source": [
    "x=rf_train.drop(['Loan_ID','Property_Area','Gender','Married','Education','Self_Employed','Dependents'],1)\n",
    "y=train_label\n",
    "\n",
    "rf = RandomForestClassifier(n_estimators=100)\n",
    "rf.fit(x, y)\n",
    "print rf.score(x,y)"
   ]
  },
  {
   "cell_type": "markdown",
   "metadata": {},
   "source": [
    "Using default parameter in RF results in 100% accuracy which tends to be overfitting.\n",
    "Conduct parameter tuning to avoid overfitting.\n"
   ]
  },
  {
   "cell_type": "code",
   "execution_count": 17,
   "metadata": {
    "collapsed": false
   },
   "outputs": [
    {
     "name": "stdout",
     "output_type": "stream",
     "text": [
      "[1.0, 0.79315960912052119, 0.78013029315960913, 0.78175895765472314, 0.68729641693811072]\n"
     ]
    }
   ],
   "source": [
    "#1.tuning number of size in each node to see if it cures overfitting\n",
    "sample_leaf_options=[1,5,10,25,50]\n",
    "train_error=[]\n",
    "\n",
    "for leaf in sample_leaf_options:\n",
    "        rf = RandomForestClassifier(n_estimators=100, min_samples_leaf=leaf)\n",
    "        rf.fit(x,y)\n",
    "        train_error.append(rf.score(x,y))   \n",
    "print train_error"
   ]
  },
  {
   "cell_type": "code",
   "execution_count": 25,
   "metadata": {
    "collapsed": false
   },
   "outputs": [
    {
     "name": "stdout",
     "output_type": "stream",
     "text": [
      "[[389  33]\n",
      " [ 92 100]]\n"
     ]
    }
   ],
   "source": [
    "rf = RandomForestClassifier(n_estimators=100,min_samples_leaf=5)\n",
    "rf.fit(x, y)\n",
    "print confusion_matrix(y, rf.predict(x),labels=['Y','N'])"
   ]
  },
  {
   "cell_type": "markdown",
   "metadata": {},
   "source": [
    " leaf size of 5 is a reasonable choice."
   ]
  },
  {
   "cell_type": "code",
   "execution_count": 13,
   "metadata": {
    "collapsed": false
   },
   "outputs": [
    {
     "name": "stdout",
     "output_type": "stream",
     "text": [
      "Feature ranking:\n",
      "1. Credit_History (0.360999)\n",
      "2. ApplicantIncome (0.174105)\n",
      "3. LoanAmount (0.156868)\n",
      "4. CoapplicantIncome (0.113466)\n",
      "5. Property_Area_coded (0.052412)\n",
      "6. Dependents_coded (0.037682)\n",
      "7. Education_coded (0.027026)\n",
      "8. Married_coded (0.026100)\n",
      "9. Loan_Amount_Term (0.024761)\n",
      "10. Gender_coded (0.016996)\n",
      "11. Self_Employed_coded (0.009586)\n"
     ]
    }
   ],
   "source": [
    "#Print the feature ranking\n",
    "importances = rf.feature_importances_\n",
    "indices = np.argsort(importances)[::-1]\n",
    "print(\"Feature ranking:\")\n",
    "for f in range(x.shape[1]):\n",
    "    print(\"%d. %s (%f)\" % (f + 1, x.columns[indices[f]], importances[indices[f]]))"
   ]
  },
  {
   "cell_type": "code",
   "execution_count": 51,
   "metadata": {
    "collapsed": false
   },
   "outputs": [
    {
     "data": {
      "text/plain": [
       "<matplotlib.text.Text at 0x103dcca50>"
      ]
     },
     "execution_count": 51,
     "metadata": {},
     "output_type": "execute_result"
    },
    {
     "data": {
      "image/png": "[encoded data removed]",
      "text/plain": [
       "<matplotlib.figure.Figure at 0x118b12750>"
      ]
     },
     "metadata": {},
     "output_type": "display_data"
    }
   ],
   "source": [
    "y2=coding(train_label,{'Y':1,'N':0})\n",
    "\n",
    "preds = rf.predict_proba(x)[:,1]\n",
    "fpr, tpr, thres = roc_curve(y2, preds)\n",
    "roc_auc = auc(fpr, tpr)\n",
    "\n",
    "plt.plot(fpr, tpr, color='r', label='ROC curve (area = %0.4f)' % roc_auc)\n",
    "plt.plot([0, 1], [0, 1], color='b', linestyle='--')\n",
    "plt.legend(loc=\"lower right\")\n",
    "plt.xlabel('False Positive Rate')\n",
    "plt.ylabel('True Positive Rate')"
   ]
  },
  {
   "cell_type": "markdown",
   "metadata": {},
   "source": [
    "Run RF model on test data set"
   ]
  },
  {
   "cell_type": "code",
   "execution_count": 14,
   "metadata": {
    "collapsed": false
   },
   "outputs": [
    {
     "name": "stdout",
     "output_type": "stream",
     "text": [
      "Before imputation on test data:\n",
      "Loan_ID               0\n",
      "Gender               11\n",
      "Married               0\n",
      "Dependents           10\n",
      "Education             0\n",
      "Self_Employed        23\n",
      "ApplicantIncome       0\n",
      "CoapplicantIncome     0\n",
      "LoanAmount            5\n",
      "Loan_Amount_Term      6\n",
      "Credit_History       29\n",
      "Property_Area         0\n",
      "dtype: int64\n",
      "After imputation:\n",
      "Loan_ID                 0\n",
      "Gender                  0\n",
      "Married                 0\n",
      "Dependents             10\n",
      "Education               0\n",
      "Self_Employed           0\n",
      "ApplicantIncome         0\n",
      "CoapplicantIncome       0\n",
      "LoanAmount              0\n",
      "Loan_Amount_Term        0\n",
      "Credit_History          0\n",
      "Property_Area           0\n",
      "Property_Area_coded     0\n",
      "Gender_coded            0\n",
      "Married_coded           0\n",
      "Education_coded         0\n",
      "Self_Employed_coded     0\n",
      "Dependents_coded        0\n",
      "dtype: int64\n",
      "(367, 19)\n"
     ]
    },
    {
     "data": {
      "text/html": [
       "<div>\n",
       "<table border=\"1\" class=\"dataframe\">\n",
       "  <thead>\n",
       "    <tr style=\"text-align: right;\">\n",
       "      <th></th>\n",
       "      <th>Loan_ID</th>\n",
       "      <th>Gender</th>\n",
       "      <th>Married</th>\n",
       "      <th>Dependents</th>\n",
       "      <th>Education</th>\n",
       "      <th>Self_Employed</th>\n",
       "      <th>ApplicantIncome</th>\n",
       "      <th>CoapplicantIncome</th>\n",
       "      <th>LoanAmount</th>\n",
       "      <th>Loan_Amount_Term</th>\n",
       "      <th>Credit_History</th>\n",
       "      <th>Property_Area</th>\n",
       "      <th>Property_Area_coded</th>\n",
       "      <th>Gender_coded</th>\n",
       "      <th>Married_coded</th>\n",
       "      <th>Education_coded</th>\n",
       "      <th>Self_Employed_coded</th>\n",
       "      <th>Dependents_coded</th>\n",
       "      <th>Loan_Status</th>\n",
       "    </tr>\n",
       "  </thead>\n",
       "  <tbody>\n",
       "    <tr>\n",
       "      <th>0</th>\n",
       "      <td>LP001015</td>\n",
       "      <td>Male</td>\n",
       "      <td>Yes</td>\n",
       "      <td>0</td>\n",
       "      <td>Graduate</td>\n",
       "      <td>No</td>\n",
       "      <td>5720</td>\n",
       "      <td>0</td>\n",
       "      <td>110.0</td>\n",
       "      <td>360.0</td>\n",
       "      <td>1.0</td>\n",
       "      <td>Urban</td>\n",
       "      <td>0</td>\n",
       "      <td>0</td>\n",
       "      <td>1</td>\n",
       "      <td>1</td>\n",
       "      <td>1</td>\n",
       "      <td>0.0</td>\n",
       "      <td>Y</td>\n",
       "    </tr>\n",
       "    <tr>\n",
       "      <th>1</th>\n",
       "      <td>LP001022</td>\n",
       "      <td>Male</td>\n",
       "      <td>Yes</td>\n",
       "      <td>1</td>\n",
       "      <td>Graduate</td>\n",
       "      <td>No</td>\n",
       "      <td>3076</td>\n",
       "      <td>1500</td>\n",
       "      <td>126.0</td>\n",
       "      <td>360.0</td>\n",
       "      <td>1.0</td>\n",
       "      <td>Urban</td>\n",
       "      <td>2</td>\n",
       "      <td>0</td>\n",
       "      <td>0</td>\n",
       "      <td>1</td>\n",
       "      <td>1</td>\n",
       "      <td>1.0</td>\n",
       "      <td>Y</td>\n",
       "    </tr>\n",
       "    <tr>\n",
       "      <th>2</th>\n",
       "      <td>LP001031</td>\n",
       "      <td>Male</td>\n",
       "      <td>Yes</td>\n",
       "      <td>2</td>\n",
       "      <td>Graduate</td>\n",
       "      <td>No</td>\n",
       "      <td>5000</td>\n",
       "      <td>1800</td>\n",
       "      <td>208.0</td>\n",
       "      <td>360.0</td>\n",
       "      <td>1.0</td>\n",
       "      <td>Urban</td>\n",
       "      <td>0</td>\n",
       "      <td>0</td>\n",
       "      <td>0</td>\n",
       "      <td>1</td>\n",
       "      <td>0</td>\n",
       "      <td>0.0</td>\n",
       "      <td>Y</td>\n",
       "    </tr>\n",
       "    <tr>\n",
       "      <th>3</th>\n",
       "      <td>LP001035</td>\n",
       "      <td>Male</td>\n",
       "      <td>Yes</td>\n",
       "      <td>2</td>\n",
       "      <td>Graduate</td>\n",
       "      <td>No</td>\n",
       "      <td>2340</td>\n",
       "      <td>2546</td>\n",
       "      <td>100.0</td>\n",
       "      <td>360.0</td>\n",
       "      <td>0.0</td>\n",
       "      <td>Urban</td>\n",
       "      <td>0</td>\n",
       "      <td>0</td>\n",
       "      <td>0</td>\n",
       "      <td>0</td>\n",
       "      <td>1</td>\n",
       "      <td>0.0</td>\n",
       "      <td>N</td>\n",
       "    </tr>\n",
       "    <tr>\n",
       "      <th>4</th>\n",
       "      <td>LP001051</td>\n",
       "      <td>Male</td>\n",
       "      <td>No</td>\n",
       "      <td>0</td>\n",
       "      <td>Not Graduate</td>\n",
       "      <td>No</td>\n",
       "      <td>3276</td>\n",
       "      <td>0</td>\n",
       "      <td>78.0</td>\n",
       "      <td>360.0</td>\n",
       "      <td>1.0</td>\n",
       "      <td>Urban</td>\n",
       "      <td>0</td>\n",
       "      <td>0</td>\n",
       "      <td>1</td>\n",
       "      <td>1</td>\n",
       "      <td>1</td>\n",
       "      <td>0.0</td>\n",
       "      <td>Y</td>\n",
       "    </tr>\n",
       "  </tbody>\n",
       "</table>\n",
       "</div>"
      ],
      "text/plain": [
       "    Loan_ID Gender Married Dependents     Education Self_Employed  \\\n",
       "0  LP001015   Male     Yes          0      Graduate            No   \n",
       "1  LP001022   Male     Yes          1      Graduate            No   \n",
       "2  LP001031   Male     Yes          2      Graduate            No   \n",
       "3  LP001035   Male     Yes          2      Graduate            No   \n",
       "4  LP001051   Male      No          0  Not Graduate            No   \n",
       "\n",
       "   ApplicantIncome  CoapplicantIncome  LoanAmount  Loan_Amount_Term  \\\n",
       "0             5720                  0       110.0             360.0   \n",
       "1             3076               1500       126.0             360.0   \n",
       "2             5000               1800       208.0             360.0   \n",
       "3             2340               2546       100.0             360.0   \n",
       "4             3276                  0        78.0             360.0   \n",
       "\n",
       "   Credit_History Property_Area  Property_Area_coded  Gender_coded  \\\n",
       "0             1.0         Urban                    0             0   \n",
       "1             1.0         Urban                    2             0   \n",
       "2             1.0         Urban                    0             0   \n",
       "3             0.0         Urban                    0             0   \n",
       "4             1.0         Urban                    0             0   \n",
       "\n",
       "   Married_coded  Education_coded  Self_Employed_coded  Dependents_coded  \\\n",
       "0              1                1                    1               0.0   \n",
       "1              0                1                    1               1.0   \n",
       "2              0                1                    0               0.0   \n",
       "3              0                0                    1               0.0   \n",
       "4              1                1                    1               0.0   \n",
       "\n",
       "  Loan_Status  \n",
       "0           Y  \n",
       "1           Y  \n",
       "2           Y  \n",
       "3           N  \n",
       "4           Y  "
      ]
     },
     "metadata": {},
     "output_type": "display_data"
    },
    {
     "name": "stdout",
     "output_type": "stream",
     "text": [
      "None\n",
      "(367, 2)\n",
      "Loan_ID        0\n",
      "Loan_Status    0\n",
      "dtype: int64\n"
     ]
    },
    {
     "data": {
      "text/html": [
       "<div>\n",
       "<table border=\"1\" class=\"dataframe\">\n",
       "  <thead>\n",
       "    <tr style=\"text-align: right;\">\n",
       "      <th></th>\n",
       "      <th>Loan_ID</th>\n",
       "      <th>Loan_Status</th>\n",
       "    </tr>\n",
       "  </thead>\n",
       "  <tbody>\n",
       "    <tr>\n",
       "      <th>0</th>\n",
       "      <td>LP001015</td>\n",
       "      <td>Y</td>\n",
       "    </tr>\n",
       "    <tr>\n",
       "      <th>1</th>\n",
       "      <td>LP001022</td>\n",
       "      <td>Y</td>\n",
       "    </tr>\n",
       "    <tr>\n",
       "      <th>2</th>\n",
       "      <td>LP001031</td>\n",
       "      <td>Y</td>\n",
       "    </tr>\n",
       "    <tr>\n",
       "      <th>3</th>\n",
       "      <td>LP001035</td>\n",
       "      <td>N</td>\n",
       "    </tr>\n",
       "    <tr>\n",
       "      <th>4</th>\n",
       "      <td>LP001051</td>\n",
       "      <td>Y</td>\n",
       "    </tr>\n",
       "  </tbody>\n",
       "</table>\n",
       "</div>"
      ],
      "text/plain": [
       "    Loan_ID Loan_Status\n",
       "0  LP001015           Y\n",
       "1  LP001022           Y\n",
       "2  LP001031           Y\n",
       "3  LP001035           N\n",
       "4  LP001051           Y"
      ]
     },
     "metadata": {},
     "output_type": "display_data"
    },
    {
     "name": "stdout",
     "output_type": "stream",
     "text": [
      "None\n"
     ]
    }
   ],
   "source": [
    "test=pd.read_csv('test_data.csv')\n",
    "rf_test=test\n",
    "print \"Before imputation on test data:\"\n",
    "print rf_test.apply(num_missing,axis=0)\n",
    "\n",
    "#fill in blank\n",
    "from scipy.stats import mode\n",
    "rf_test['Gender'].fillna(mode(data['Gender']).mode[0],inplace=True)\n",
    "rf_test['Self_Employed'].fillna(mode(data['Self_Employed']).mode[0],inplace=True)\n",
    "rf_test['Married'].fillna(mode(data['Married']).mode[0],inplace=True)\n",
    "rf_test['Loan_Amount_Term'].fillna(mode(data['Loan_Amount_Term']).mode[0],inplace=True)\n",
    "rf_test['LoanAmount'].fillna(data['LoanAmount'].mean(),inplace=True)\n",
    "rf_test['Credit_History'].fillna(0,inplace=True)\n",
    "#recode categorical variables\n",
    "rf_test['Property_Area_coded']=coding(rf_train['Property_Area'],{'Urban':0,'Semiurban':1,'Rural':2})\n",
    "rf_test['Gender_coded']=coding(rf_train['Gender'],{'Male':0,'Female':1})\n",
    "rf_test['Married_coded']=coding(rf_train['Married'],{'Yes':0,'No':1})\n",
    "rf_test['Education_coded']=coding(rf_train['Education'],{'Not Graduate':0,'Graduate':1})\n",
    "rf_test['Self_Employed_coded']=coding(rf_train['Self_Employed'],{'Yes':0,'No':1})\n",
    "rf_test['Dependents_coded']=coding(rf_train['Dependents'],{'0':0,'1':1,'2':2,'3+':3})\n",
    "\n",
    "\n",
    "#fill in dependents\n",
    "rf_test.loc[(rf_test['Dependents_coded'].isnull() ) & (rf_test['Married']=='Yes'), 'Dependents_coded']=rf_train.groupby('Married')['Dependents_coded'].mean()[1]\n",
    "rf_test.loc[(rf_test['Dependents_coded'].isnull() ) & (rf_test['Married']=='No'), 'Dependents_coded']=rf_train.groupby('Married')['Dependents_coded'].mean()[0]\n",
    "\n",
    "print \"After imputation:\"\n",
    "print rf_test.apply(num_missing,axis=0)\n",
    "\n",
    "x=rf_test.drop(['Loan_ID','Property_Area','Gender','Married','Education','Self_Employed','Dependents'],1)\n",
    "py=rf.predict(x)\n",
    "\n",
    "\n",
    "rf_test['Loan_Status']=py\n",
    "print rf_test.shape\n",
    "print display(rf_test.head())\n",
    "\n",
    "submission=rf_test.loc[:,['Loan_ID','Loan_Status']]\n",
    "print submission.shape\n",
    "print submission.apply(num_missing,axis=0)\n",
    "print display(submission.head(5))\n",
    "submission.to_csv('test_result_rf_imp_0302',header=True,index = False)\n"
   ]
  },
  {
   "cell_type": "markdown",
   "metadata": {},
   "source": [
    "Testing score using Random Forest with imputation is 0.777 which is slightly better than logistic regression 0.7638"
   ]
  }
 ],
 "metadata": {
  "anaconda-cloud": {},
  "kernelspec": {
   "display_name": "Python [Root]",
   "language": "python",
   "name": "Python [Root]"
  },
  "language_info": {
   "codemirror_mode": {
    "name": "ipython",
    "version": 2
   },
   "file_extension": ".py",
   "mimetype": "text/x-python",
   "name": "python",
   "nbconvert_exporter": "python",
   "pygments_lexer": "ipython2",
   "version": "2.7.12"
  }
 },
 "nbformat": 4,
 "nbformat_minor": 0
}
